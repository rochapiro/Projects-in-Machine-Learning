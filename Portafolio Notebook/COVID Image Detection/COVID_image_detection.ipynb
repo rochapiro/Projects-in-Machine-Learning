{
  "nbformat": 4,
  "nbformat_minor": 0,
  "metadata": {
    "colab": {
      "provenance": []
    },
    "kernelspec": {
      "name": "python3",
      "display_name": "Python 3"
    },
    "accelerator": "GPU"
  },
  "cells": [
    {
      "cell_type": "markdown",
      "source": [
        "## Write up report using Covid Positive X-Ray image data"
      ],
      "metadata": {
        "id": "MfPWN8hYy54x"
      }
    },
    {
      "cell_type": "markdown",
      "source": [
        "### Name:Rolando Chapiro Uziel \n",
        "### Uni: rc3434"
      ],
      "metadata": {
        "id": "iqaYy3G7y-tz"
      }
    },
    {
      "cell_type": "markdown",
      "source": [
        "Link to github: \n",
        "\n",
        "https://github.com/rochapiro/Projects-in-Machine-Learning/blob/main/COVID%20Image%20Detection/COVID_image_detection.ipynb"
      ],
      "metadata": {
        "id": "h9CM2TwAzLuY"
      }
    },
    {
      "cell_type": "markdown",
      "source": [
        "#### 1. Use Google Drive link to view a folder I shared with @columbia.edu google drive users\n",
        "https://drive.google.com/drive/folders/18O-BnGOIw9ZiUwy17Uk_361xyfTF-qAN?usp=sharing\n",
        "#### 2. Right click folder and click \"Add shortcut to Drive\"\n",
        "This will be sure the zipfile in this folder is accessible in your personal drive folder\n"
      ],
      "metadata": {
        "id": "hTFbzaoly8kM"
      }
    },
    {
      "cell_type": "code",
      "source": [
        "# Connect to google drive\n",
        "import os\n",
        "from google.colab import drive\n",
        "drive.mount('/content/drive')\n",
        "\n",
        "# content in your drive is now available via \"/content/drive/My Drive\"\n"
      ],
      "metadata": {
        "colab": {
          "base_uri": "https://localhost:8080/"
        },
        "id": "3GuTB3NnSxka",
        "outputId": "659a96e5-f996-406e-a8f6-bbf3058ef2b6"
      },
      "execution_count": null,
      "outputs": [
        {
          "output_type": "stream",
          "name": "stdout",
          "text": [
            "Drive already mounted at /content/drive; to attempt to forcibly remount, call drive.mount(\"/content/drive\", force_remount=True).\n"
          ]
        }
      ]
    },
    {
      "cell_type": "code",
      "metadata": {
        "id": "DuYdaUsfv79-"
      },
      "source": [
        "# Import data and unzip files to folder\n",
        "!unzip -o /content/drive/MyDrive/COVID-19_Radiography_Dataset.zip"
      ],
      "execution_count": null,
      "outputs": []
    },
    {
      "cell_type": "code",
      "metadata": {
        "id": "Mu2zq86HwZFU"
      },
      "source": [
        "# Load libraries and then download data\n",
        "\n",
        "import sys\n",
        "import time\n",
        "import cv2\n",
        "import numpy as np\n",
        "from matplotlib import pyplot as plt\n",
        "import tensorflow as tf\n",
        "import os\n",
        "import zipfile\n",
        "\n",
        "from sklearn.model_selection import train_test_split\n",
        "\n",
        "from tensorflow.python.keras.utils import np_utils\n",
        "from tensorflow.keras.models import Sequential, Model\n",
        "from tensorflow.keras.layers import Dense, Dropout, Flatten, Activation, BatchNormalization\n",
        "from tensorflow.python.keras.layers.convolutional import Conv2D, MaxPooling2D \n",
        "from tensorflow.keras.preprocessing.image import ImageDataGenerator\n",
        "from tensorflow.keras.optimizers import Adam,SGD,Adagrad,Adadelta,RMSprop\n",
        "from tensorflow.keras.applications import VGG19, ResNet50, InceptionV3\n"
      ],
      "execution_count": null,
      "outputs": []
    },
    {
      "cell_type": "code",
      "metadata": {
        "id": "dWzvKPdewbLz"
      },
      "source": [
        "# Extracting all filenames iteratively\n",
        "base_path = 'COVID-19_Radiography_Dataset'\n",
        "categories = ['COVID/images', 'Normal/images', 'Viral Pneumonia/images']\n",
        "\n",
        "# load file names to fnames list object\n",
        "fnames = []\n",
        "for category in categories:\n",
        "    image_folder = os.path.join(base_path, category)\n",
        "    file_names = os.listdir(image_folder)\n",
        "    full_path = [os.path.join(image_folder, file_name) for file_name in file_names]\n",
        "    fnames.append(full_path)\n",
        "\n",
        "print('number of images for each category:', [len(f) for f in fnames])\n",
        "print(fnames[0:2]) #examples of file names"
      ],
      "execution_count": null,
      "outputs": []
    },
    {
      "cell_type": "code",
      "source": [
        "#Reduce number of images to first 1345 for each category\n",
        "fnames[0]=fnames[0][0:1344]\n",
        "fnames[1]=fnames[1][0:1344]\n",
        "fnames[2]=fnames[2][0:1344]"
      ],
      "metadata": {
        "id": "4u-QBVz8fGYR"
      },
      "execution_count": null,
      "outputs": []
    },
    {
      "cell_type": "code",
      "source": [
        "fnames[1]"
      ],
      "metadata": {
        "id": "ibQBl6c5_Zg_"
      },
      "execution_count": null,
      "outputs": []
    },
    {
      "cell_type": "code",
      "metadata": {
        "id": "DR9fq2m_wx3V",
        "colab": {
          "base_uri": "https://localhost:8080/"
        },
        "outputId": "bd1f206a-d1c9-4744-a9f6-9199abadbe5e"
      },
      "source": [
        "# Import image, load to array of shape height, width, channels, then min/max transform.\n",
        "# Write preprocessor that will match up with model's expected input shape.\n",
        "from keras.preprocessing import image\n",
        "import numpy as np\n",
        "from PIL import Image\n",
        "\n",
        "def preprocessor(img_path):\n",
        "        # import image, make sure it's RGB and resize to height and width you want.\n",
        "        img = Image.open(img_path).convert(\"RGB\").resize((192,192)) \n",
        "        # min max transformation\n",
        "        img = (np.float32(img)-1.)/(255-1.) \n",
        "        # Create final shape as array with correct dimensions for Keras\n",
        "        img=img.reshape((192,192,3)) \n",
        "        \n",
        "        return img\n",
        "\n",
        "\n",
        "\n",
        "#Try on single flower file (imports file and preprocesses it to data with following shape)\n",
        "preprocessor('COVID-19_Radiography_Dataset/COVID/images/COVID-2273.png').shape"
      ],
      "execution_count": null,
      "outputs": [
        {
          "output_type": "execute_result",
          "data": {
            "text/plain": [
              "(192, 192, 3)"
            ]
          },
          "metadata": {},
          "execution_count": 5
        }
      ]
    },
    {
      "cell_type": "code",
      "metadata": {
        "id": "svHoZ-SXw9qX"
      },
      "source": [
        "#Import image files iteratively and preprocess them into array of correctly structured data\n",
        "\n",
        "# Create list of file paths\n",
        "image_filepaths=fnames[0]+fnames[1]+fnames[2]\n",
        "\n",
        "# map functions apply your preprocessor function one step at a time to each filepath\n",
        "preprocessed_image_data=list(map(preprocessor,image_filepaths ))\n",
        "\n",
        "# Object needs to be an array rather than a list for Keras (map returns to list object)\n",
        "X= np.array(preprocessed_image_data) # Assigning to X to highlight that this represents feature input data for our model"
      ],
      "execution_count": null,
      "outputs": []
    },
    {
      "cell_type": "code",
      "metadata": {
        "colab": {
          "base_uri": "https://localhost:8080/"
        },
        "id": "4fjyLDwbxElq",
        "outputId": "d5e8c26d-666c-47f2-bfcf-c7a21f32a5ad"
      },
      "source": [
        "len(image_filepaths)"
      ],
      "execution_count": null,
      "outputs": [
        {
          "output_type": "execute_result",
          "data": {
            "text/plain": [
              "4032"
            ]
          },
          "metadata": {},
          "execution_count": 7
        }
      ]
    },
    {
      "cell_type": "code",
      "metadata": {
        "colab": {
          "base_uri": "https://localhost:8080/"
        },
        "id": "dZ9Xo1ADxK1y",
        "outputId": "64c3c6ee-9368-4b81-c279-449168657e5e"
      },
      "source": [
        "print(len(X) ) #same number of elements as filenames\n",
        "print(X.shape ) #dimensions now 192,192,3 for all images\n",
        "print(X.min().round() ) #min value of every image is zero\n",
        "print(X.max() ) #max value of every image is one\n"
      ],
      "execution_count": null,
      "outputs": [
        {
          "output_type": "stream",
          "name": "stdout",
          "text": [
            "4032\n",
            "(4032, 192, 192, 3)\n",
            "-0.0\n",
            "1.0\n"
          ]
        }
      ]
    },
    {
      "cell_type": "code",
      "source": [
        "len(fnames[2])"
      ],
      "metadata": {
        "colab": {
          "base_uri": "https://localhost:8080/"
        },
        "id": "BAgj1AWigUnb",
        "outputId": "04a2e707-71b7-43a8-83d6-a2a144918d49"
      },
      "execution_count": null,
      "outputs": [
        {
          "output_type": "execute_result",
          "data": {
            "text/plain": [
              "1344"
            ]
          },
          "metadata": {},
          "execution_count": 9
        }
      ]
    },
    {
      "cell_type": "code",
      "metadata": {
        "colab": {
          "base_uri": "https://localhost:8080/",
          "height": 458
        },
        "id": "pU0Da0m8x9_n",
        "outputId": "04528e4e-d36e-4ee6-c8df-0a8076b8ce40"
      },
      "source": [
        "# Create y data made up of correctly ordered labels from file folders\n",
        "from itertools import repeat\n",
        "\n",
        "# Recall that we have five folders with the following number of images in each folder \n",
        "#...corresponding to each flower type\n",
        "\n",
        "print('number of images for each category:', [len(f) for f in fnames])\n",
        "covid=list(repeat(\"COVID\", 1344))\n",
        "normal=list(repeat(\"NORMAL\", 1344))\n",
        "pneumonia=list(repeat(\"PNEUMONIA\", 1344))\n",
        "\n",
        "#combine into single list of y labels\n",
        "y_labels = covid+normal+pneumonia\n",
        "\n",
        "#check length, same as X above\n",
        "print(len(y_labels) )\n",
        "\n",
        "# Need to one hot encode for Keras.  Let's use Pandas\n",
        "\n",
        "import pandas as pd\n",
        "y=pd.get_dummies(y_labels)\n",
        "\n",
        "display(y)"
      ],
      "execution_count": null,
      "outputs": [
        {
          "output_type": "stream",
          "name": "stdout",
          "text": [
            "number of images for each category: [1344, 1344, 1344]\n",
            "4032\n"
          ]
        },
        {
          "output_type": "display_data",
          "data": {
            "text/plain": [
              "      COVID  NORMAL  PNEUMONIA\n",
              "0         1       0          0\n",
              "1         1       0          0\n",
              "2         1       0          0\n",
              "3         1       0          0\n",
              "4         1       0          0\n",
              "...     ...     ...        ...\n",
              "4027      0       0          1\n",
              "4028      0       0          1\n",
              "4029      0       0          1\n",
              "4030      0       0          1\n",
              "4031      0       0          1\n",
              "\n",
              "[4032 rows x 3 columns]"
            ],
            "text/html": [
              "\n",
              "  <div id=\"df-04cf41b2-d7fc-4050-bee9-ae5d6c0eda86\">\n",
              "    <div class=\"colab-df-container\">\n",
              "      <div>\n",
              "<style scoped>\n",
              "    .dataframe tbody tr th:only-of-type {\n",
              "        vertical-align: middle;\n",
              "    }\n",
              "\n",
              "    .dataframe tbody tr th {\n",
              "        vertical-align: top;\n",
              "    }\n",
              "\n",
              "    .dataframe thead th {\n",
              "        text-align: right;\n",
              "    }\n",
              "</style>\n",
              "<table border=\"1\" class=\"dataframe\">\n",
              "  <thead>\n",
              "    <tr style=\"text-align: right;\">\n",
              "      <th></th>\n",
              "      <th>COVID</th>\n",
              "      <th>NORMAL</th>\n",
              "      <th>PNEUMONIA</th>\n",
              "    </tr>\n",
              "  </thead>\n",
              "  <tbody>\n",
              "    <tr>\n",
              "      <th>0</th>\n",
              "      <td>1</td>\n",
              "      <td>0</td>\n",
              "      <td>0</td>\n",
              "    </tr>\n",
              "    <tr>\n",
              "      <th>1</th>\n",
              "      <td>1</td>\n",
              "      <td>0</td>\n",
              "      <td>0</td>\n",
              "    </tr>\n",
              "    <tr>\n",
              "      <th>2</th>\n",
              "      <td>1</td>\n",
              "      <td>0</td>\n",
              "      <td>0</td>\n",
              "    </tr>\n",
              "    <tr>\n",
              "      <th>3</th>\n",
              "      <td>1</td>\n",
              "      <td>0</td>\n",
              "      <td>0</td>\n",
              "    </tr>\n",
              "    <tr>\n",
              "      <th>4</th>\n",
              "      <td>1</td>\n",
              "      <td>0</td>\n",
              "      <td>0</td>\n",
              "    </tr>\n",
              "    <tr>\n",
              "      <th>...</th>\n",
              "      <td>...</td>\n",
              "      <td>...</td>\n",
              "      <td>...</td>\n",
              "    </tr>\n",
              "    <tr>\n",
              "      <th>4027</th>\n",
              "      <td>0</td>\n",
              "      <td>0</td>\n",
              "      <td>1</td>\n",
              "    </tr>\n",
              "    <tr>\n",
              "      <th>4028</th>\n",
              "      <td>0</td>\n",
              "      <td>0</td>\n",
              "      <td>1</td>\n",
              "    </tr>\n",
              "    <tr>\n",
              "      <th>4029</th>\n",
              "      <td>0</td>\n",
              "      <td>0</td>\n",
              "      <td>1</td>\n",
              "    </tr>\n",
              "    <tr>\n",
              "      <th>4030</th>\n",
              "      <td>0</td>\n",
              "      <td>0</td>\n",
              "      <td>1</td>\n",
              "    </tr>\n",
              "    <tr>\n",
              "      <th>4031</th>\n",
              "      <td>0</td>\n",
              "      <td>0</td>\n",
              "      <td>1</td>\n",
              "    </tr>\n",
              "  </tbody>\n",
              "</table>\n",
              "<p>4032 rows × 3 columns</p>\n",
              "</div>\n",
              "      <button class=\"colab-df-convert\" onclick=\"convertToInteractive('df-04cf41b2-d7fc-4050-bee9-ae5d6c0eda86')\"\n",
              "              title=\"Convert this dataframe to an interactive table.\"\n",
              "              style=\"display:none;\">\n",
              "        \n",
              "  <svg xmlns=\"http://www.w3.org/2000/svg\" height=\"24px\"viewBox=\"0 0 24 24\"\n",
              "       width=\"24px\">\n",
              "    <path d=\"M0 0h24v24H0V0z\" fill=\"none\"/>\n",
              "    <path d=\"M18.56 5.44l.94 2.06.94-2.06 2.06-.94-2.06-.94-.94-2.06-.94 2.06-2.06.94zm-11 1L8.5 8.5l.94-2.06 2.06-.94-2.06-.94L8.5 2.5l-.94 2.06-2.06.94zm10 10l.94 2.06.94-2.06 2.06-.94-2.06-.94-.94-2.06-.94 2.06-2.06.94z\"/><path d=\"M17.41 7.96l-1.37-1.37c-.4-.4-.92-.59-1.43-.59-.52 0-1.04.2-1.43.59L10.3 9.45l-7.72 7.72c-.78.78-.78 2.05 0 2.83L4 21.41c.39.39.9.59 1.41.59.51 0 1.02-.2 1.41-.59l7.78-7.78 2.81-2.81c.8-.78.8-2.07 0-2.86zM5.41 20L4 18.59l7.72-7.72 1.47 1.35L5.41 20z\"/>\n",
              "  </svg>\n",
              "      </button>\n",
              "      \n",
              "  <style>\n",
              "    .colab-df-container {\n",
              "      display:flex;\n",
              "      flex-wrap:wrap;\n",
              "      gap: 12px;\n",
              "    }\n",
              "\n",
              "    .colab-df-convert {\n",
              "      background-color: #E8F0FE;\n",
              "      border: none;\n",
              "      border-radius: 50%;\n",
              "      cursor: pointer;\n",
              "      display: none;\n",
              "      fill: #1967D2;\n",
              "      height: 32px;\n",
              "      padding: 0 0 0 0;\n",
              "      width: 32px;\n",
              "    }\n",
              "\n",
              "    .colab-df-convert:hover {\n",
              "      background-color: #E2EBFA;\n",
              "      box-shadow: 0px 1px 2px rgba(60, 64, 67, 0.3), 0px 1px 3px 1px rgba(60, 64, 67, 0.15);\n",
              "      fill: #174EA6;\n",
              "    }\n",
              "\n",
              "    [theme=dark] .colab-df-convert {\n",
              "      background-color: #3B4455;\n",
              "      fill: #D2E3FC;\n",
              "    }\n",
              "\n",
              "    [theme=dark] .colab-df-convert:hover {\n",
              "      background-color: #434B5C;\n",
              "      box-shadow: 0px 1px 3px 1px rgba(0, 0, 0, 0.15);\n",
              "      filter: drop-shadow(0px 1px 2px rgba(0, 0, 0, 0.3));\n",
              "      fill: #FFFFFF;\n",
              "    }\n",
              "  </style>\n",
              "\n",
              "      <script>\n",
              "        const buttonEl =\n",
              "          document.querySelector('#df-04cf41b2-d7fc-4050-bee9-ae5d6c0eda86 button.colab-df-convert');\n",
              "        buttonEl.style.display =\n",
              "          google.colab.kernel.accessAllowed ? 'block' : 'none';\n",
              "\n",
              "        async function convertToInteractive(key) {\n",
              "          const element = document.querySelector('#df-04cf41b2-d7fc-4050-bee9-ae5d6c0eda86');\n",
              "          const dataTable =\n",
              "            await google.colab.kernel.invokeFunction('convertToInteractive',\n",
              "                                                     [key], {});\n",
              "          if (!dataTable) return;\n",
              "\n",
              "          const docLinkHtml = 'Like what you see? Visit the ' +\n",
              "            '<a target=\"_blank\" href=https://colab.research.google.com/notebooks/data_table.ipynb>data table notebook</a>'\n",
              "            + ' to learn more about interactive tables.';\n",
              "          element.innerHTML = '';\n",
              "          dataTable['output_type'] = 'display_data';\n",
              "          await google.colab.output.renderOutput(dataTable, element);\n",
              "          const docLink = document.createElement('div');\n",
              "          docLink.innerHTML = docLinkHtml;\n",
              "          element.appendChild(docLink);\n",
              "        }\n",
              "      </script>\n",
              "    </div>\n",
              "  </div>\n",
              "  "
            ]
          },
          "metadata": {}
        }
      ]
    },
    {
      "cell_type": "markdown",
      "source": [
        "## Visualization of images that show lungs with, COVID, With no COVID and with Pneumonia"
      ],
      "metadata": {
        "id": "75U_Ka87_neB"
      }
    },
    {
      "cell_type": "code",
      "metadata": {
        "colab": {
          "base_uri": "https://localhost:8080/",
          "height": 486
        },
        "id": "nUTR0fRkybas",
        "outputId": "2d4b4b00-a7d5-4bf0-eb85-784117958a91"
      },
      "source": [
        "import matplotlib.pyplot as plt\n",
        "from mpl_toolkits.axes_grid1 import ImageGrid\n",
        "import numpy as np\n",
        "import random\n",
        "\n",
        "# Lungs with COVID\n",
        "im1 =preprocessor(fnames[0][0])\n",
        "im2 =preprocessor(fnames[0][1])\n",
        "\n",
        "# Lungs with no COVID \n",
        "im3 =preprocessor(fnames[1][0])\n",
        "im4 =preprocessor(fnames[1][1])\n",
        "\n",
        "# Lungs with Pneumonia \n",
        "im5= preprocessor(fnames[2][0])\n",
        "im6= preprocessor(fnames[2][1])\n",
        "\n",
        "\n",
        "fig = plt.figure(figsize=(9., 9.))\n",
        "grid = ImageGrid(fig, 111,  # similar to subplot(111)\n",
        "                 nrows_ncols=(3, 3),  # creates 2x2 grid of axes\n",
        "                 axes_pad=0.25,  # pad between axes in inch.\n",
        "                 )\n",
        "\n",
        "for ax, im in zip(grid, [im1, im2, im3, im4, im5, im6]):\n",
        "    # Iterating over the grid returns the Axes.\n",
        "    ax.imshow(im)\n",
        "plt.show()"
      ],
      "execution_count": null,
      "outputs": [
        {
          "output_type": "stream",
          "name": "stderr",
          "text": [
            "WARNING:matplotlib.image:Clipping input data to the valid range for imshow with RGB data ([0..1] for floats or [0..255] for integers).\n",
            "WARNING:matplotlib.image:Clipping input data to the valid range for imshow with RGB data ([0..1] for floats or [0..255] for integers).\n",
            "WARNING:matplotlib.image:Clipping input data to the valid range for imshow with RGB data ([0..1] for floats or [0..255] for integers).\n",
            "WARNING:matplotlib.image:Clipping input data to the valid range for imshow with RGB data ([0..1] for floats or [0..255] for integers).\n",
            "WARNING:matplotlib.image:Clipping input data to the valid range for imshow with RGB data ([0..1] for floats or [0..255] for integers).\n"
          ]
        },
        {
          "output_type": "display_data",
          "data": {
            "text/plain": [
              "<Figure size 648x648 with 18 Axes>"
            ],
            "image/png": "[encoded data removed]"
          },
          "metadata": {
            "needs_background": "light"
          }
        }
      ]
    },
    {
      "cell_type": "markdown",
      "source": [
        "## Why Build a predictive Model using these images as data? "
      ],
      "metadata": {
        "id": "VA4zvMKSBFnY"
      }
    },
    {
      "cell_type": "markdown",
      "source": [
        "The data set contains x-ray images of different patients lungs. Amongst these images there are somme that contain COVID, Pneumonia and lungs with no visible medical issues. Using the data briefly described above, to produce a model that has the ability to accuratley, detect Lungs with and without COVID can be of substantial imporance as during the peak of the pandemic the need for X-ray analysis by medical professionals surpassed the availability of doctors whi the necesary knowledge to look over the X-rays. Building a model with a high accuracy rate in predicting COVID incidence based only off image data would deliver results and potetntial treatment in a much more effective manner to the appropriate pattients. There is a large space for a value added model with the ability to performe such task; specially in periods of high demand for medical professionals that gover over X-rays one by one. "
      ],
      "metadata": {
        "id": "aEIH3t2DBNrU"
      }
    },
    {
      "cell_type": "code",
      "source": [
        "#Train test split resized images (Hackathon Note!! Use same train test split to be able to submit predictions to leaderboard!)\n",
        "from sklearn.model_selection import train_test_split\n",
        "\n",
        "X_train, X_test, y_train, y_test = train_test_split(X, y, stratify = y, test_size = 0.32, random_state = 1987)\n",
        "\n",
        "\n",
        "X_test.shape, y_test.shape\n",
        "#print(X_train.shape, y_train.shape)"
      ],
      "metadata": {
        "colab": {
          "base_uri": "https://localhost:8080/"
        },
        "id": "HSJrWsmNGXGv",
        "outputId": "b0a2bdfe-a0db-4c09-b0e9-5e04261b26d1"
      },
      "execution_count": null,
      "outputs": [
        {
          "output_type": "execute_result",
          "data": {
            "text/plain": [
              "((1291, 192, 192, 3), (1291, 3))"
            ]
          },
          "metadata": {},
          "execution_count": 14
        }
      ]
    },
    {
      "cell_type": "code",
      "source": [
        "#Save data to be able to reload quickly if memory crashes or if you run Runtime>Restart Runtime\n",
        "import pickle\n",
        "\n",
        "# Open a file and use dump()\n",
        "with open('X_train.pkl', 'wb') as file:\n",
        "    # A new file will be created\n",
        "    pickle.dump(X_train, file)\n",
        "\n",
        "#Save data\n",
        "import pickle\n",
        "\n",
        "# Open a file and use dump()\n",
        "with open('X_test.pkl', 'wb') as file:\n",
        "    # A new file will be created\n",
        "    pickle.dump(X_test, file)\n",
        "\n",
        "#Save data\n",
        "import pickle\n",
        "\n",
        "# Open a file and use dump()\n",
        "with open('y_train.pkl', 'wb') as file:\n",
        "    # A new file will be created\n",
        "    pickle.dump(y_train, file)\n",
        "\n",
        "\n",
        "# Open a file and use dump()\n",
        "with open('y_test.pkl', 'wb') as file:\n",
        "    # A new file will be created\n",
        "    pickle.dump(y_test, file)"
      ],
      "metadata": {
        "id": "i5wNV8vhJrig"
      },
      "execution_count": null,
      "outputs": []
    },
    {
      "cell_type": "markdown",
      "source": [
        "## Building 3 different models to approach the COVID image detection problem"
      ],
      "metadata": {
        "id": "RToL1CRGGEfE"
      }
    },
    {
      "cell_type": "markdown",
      "source": [
        "### First apporach: A CONV2D model with Maxpooling"
      ],
      "metadata": {
        "id": "IjsZN1AiGOhj"
      }
    },
    {
      "cell_type": "code",
      "metadata": {
        "colab": {
          "base_uri": "https://localhost:8080/"
        },
        "id": "9LrTcis-y4Sy",
        "outputId": "59b7acf7-1b2b-4a8c-d420-1cb294f14291"
      },
      "source": [
        "import tensorflow as tf\n",
        "\n",
        "with tf.device('/device:GPU:0'): #\"/GPU:0\": Short-hand notation for the first GPU of your machine that is visible to TensorFlow.\n",
        "\n",
        "  model = tf.keras.Sequential([\n",
        "    # input: images of size Sample size, height, width, channels 1x192x192x3 pixels (the three stands for RGB channels)    \n",
        "    tf.keras.layers.Conv2D(kernel_size=3, filters=32, padding='same', activation='relu', input_shape=(192, 192, 3)),\n",
        "    tf.keras.layers.Conv2D(kernel_size=1, filters=32, padding='same', activation='relu'),\n",
        "    tf.keras.layers.MaxPooling2D(pool_size=2),\n",
        "    tf.keras.layers.Conv2D(kernel_size=3, filters=128, padding='same', activation='relu'),\n",
        "    tf.keras.layers.Conv2D(kernel_size=1, filters=128, padding='same', activation='relu'),\n",
        "    tf.keras.layers.MaxPooling2D(pool_size=2),\n",
        "    tf.keras.layers.Conv2D(kernel_size=3, filters=128, padding='same', activation='relu'),\n",
        "    tf.keras.layers.Conv2D(kernel_size=1, filters=128, padding='same', activation='relu'),\n",
        "    tf.keras.layers.MaxPooling2D(pool_size=2),\n",
        "    tf.keras.layers.Conv2D(kernel_size=3, filters=512, padding='same', activation='relu'),\n",
        "    tf.keras.layers.Conv2D(kernel_size=1, filters=512, padding='same', activation='relu'),\n",
        "    tf.keras.layers.MaxPooling2D(pool_size=2),\n",
        "    tf.keras.layers.Conv2D(kernel_size=3, filters=512, padding='same', activation='relu'),\n",
        "    tf.keras.layers.Conv2D(kernel_size=1, filters=512, padding='same', activation='relu'),\n",
        "    tf.keras.layers.Flatten(),\n",
        "    # classifying into 5 categories\n",
        "    tf.keras.layers.Dense(3, activation='softmax')\n",
        "  ])\n",
        "  #from tensorflow.python.keras.callbacks import ReduceLROnPlateau\n",
        "  #red_lr= ReduceLROnPlateau(monitor='val_acc',patience=3,verbose=1,factor=0.1) # dividing lr by 10 when val_accuracy fails to improve after 3 epochs\n",
        "\n",
        "  model.compile(\n",
        "    optimizer=\"adam\", # to use callback set lr arg such as Adam(lr=0.001) instead\n",
        "    loss= 'categorical_crossentropy',\n",
        "    metrics=['accuracy'])\n",
        "  \n",
        "  # Fitting the CNN to the Training set\n",
        "  model.fit(X_train, y_train, epochs = 5, verbose=1,validation_split=.2) #, callbacks=[red_lr]) for callback that automatically adjusts lr"
      ],
      "execution_count": null,
      "outputs": [
        {
          "output_type": "stream",
          "name": "stdout",
          "text": [
            "Epoch 1/5\n",
            "69/69 [==============================] - 22s 156ms/step - loss: 0.9321 - accuracy: 0.4991 - val_loss: 0.6798 - val_accuracy: 0.7158\n",
            "Epoch 2/5\n",
            "69/69 [==============================] - 8s 123ms/step - loss: 0.5888 - accuracy: 0.7318 - val_loss: 0.5426 - val_accuracy: 0.7650\n",
            "Epoch 3/5\n",
            "69/69 [==============================] - 8s 121ms/step - loss: 0.4902 - accuracy: 0.7888 - val_loss: 0.5588 - val_accuracy: 0.7923\n",
            "Epoch 4/5\n",
            "69/69 [==============================] - 8s 121ms/step - loss: 0.4382 - accuracy: 0.8234 - val_loss: 0.4657 - val_accuracy: 0.8397\n",
            "Epoch 5/5\n",
            "69/69 [==============================] - 8s 122ms/step - loss: 0.3415 - accuracy: 0.8677 - val_loss: 0.4360 - val_accuracy: 0.8379\n"
          ]
        }
      ]
    },
    {
      "cell_type": "code",
      "source": [
        "# save the model\n",
        "model.save(\"model\", save_format=\"h5\")"
      ],
      "metadata": {
        "id": "kZPdXhSgii5W"
      },
      "execution_count": null,
      "outputs": []
    },
    {
      "cell_type": "code",
      "metadata": {
        "id": "xWM9TMT01aC4"
      },
      "source": [
        "# Begin to submit models to image classification leaderboard\n",
        "! pip install aimodelshare --upgrade\n",
        "# Restart session Runtime > Restart runtime"
      ],
      "execution_count": null,
      "outputs": []
    },
    {
      "cell_type": "code",
      "source": [
        "# Reload model and data\n",
        "import tensorflow as tf\n",
        "model = tf.keras.models.load_model('model1.h5',compile=False)\n",
        "model.compile(\n",
        "    optimizer=\"adam\", # to use callback set lr arg such as Adam(lr=0.001) instead\n",
        "    loss= 'categorical_crossentropy',\n",
        "    metrics=['accuracy'])\n",
        "model.summary()"
      ],
      "metadata": {
        "colab": {
          "base_uri": "https://localhost:8080/"
        },
        "id": "5wuQYRQ9jLTz",
        "outputId": "2d751811-764b-4a02-a4e5-86b313711d00"
      },
      "execution_count": null,
      "outputs": [
        {
          "output_type": "stream",
          "name": "stdout",
          "text": [
            "Model: \"sequential\"\n",
            "_________________________________________________________________\n",
            " Layer (type)                Output Shape              Param #   \n",
            "=================================================================\n",
            " conv2d (Conv2D)             (None, 192, 192, 32)      896       \n",
            "                                                                 \n",
            " conv2d_1 (Conv2D)           (None, 192, 192, 32)      1056      \n",
            "                                                                 \n",
            " max_pooling2d (MaxPooling2D  (None, 96, 96, 32)       0         \n",
            " )                                                               \n",
            "                                                                 \n",
            " conv2d_2 (Conv2D)           (None, 96, 96, 128)       36992     \n",
            "                                                                 \n",
            " conv2d_3 (Conv2D)           (None, 96, 96, 128)       16512     \n",
            "                                                                 \n",
            " max_pooling2d_1 (MaxPooling  (None, 48, 48, 128)      0         \n",
            " 2D)                                                             \n",
            "                                                                 \n",
            " conv2d_4 (Conv2D)           (None, 48, 48, 128)       147584    \n",
            "                                                                 \n",
            " conv2d_5 (Conv2D)           (None, 48, 48, 128)       16512     \n",
            "                                                                 \n",
            " max_pooling2d_2 (MaxPooling  (None, 24, 24, 128)      0         \n",
            " 2D)                                                             \n",
            "                                                                 \n",
            " conv2d_6 (Conv2D)           (None, 24, 24, 512)       590336    \n",
            "                                                                 \n",
            " conv2d_7 (Conv2D)           (None, 24, 24, 512)       262656    \n",
            "                                                                 \n",
            " max_pooling2d_3 (MaxPooling  (None, 12, 12, 512)      0         \n",
            " 2D)                                                             \n",
            "                                                                 \n",
            " conv2d_8 (Conv2D)           (None, 12, 12, 512)       2359808   \n",
            "                                                                 \n",
            " conv2d_9 (Conv2D)           (None, 12, 12, 512)       262656    \n",
            "                                                                 \n",
            " flatten (Flatten)           (None, 73728)             0         \n",
            "                                                                 \n",
            " dense (Dense)               (None, 3)                 221187    \n",
            "                                                                 \n",
            "=================================================================\n",
            "Total params: 3,916,195\n",
            "Trainable params: 3,916,195\n",
            "Non-trainable params: 0\n",
            "_________________________________________________________________\n"
          ]
        }
      ]
    },
    {
      "cell_type": "code",
      "source": [
        "# Save preprocessor function (may need to reload function in cell above)\n",
        "import aimodelshare as ai\n",
        "ai.export_preprocessor(preprocessor,\"\")"
      ],
      "metadata": {
        "colab": {
          "base_uri": "https://localhost:8080/"
        },
        "id": "uu5RBFunkHwj",
        "outputId": "13c72d46-ebc6-4bc5-b85f-5a1c34511480"
      },
      "execution_count": null,
      "outputs": [
        {
          "output_type": "stream",
          "name": "stdout",
          "text": [
            "Your preprocessor is now saved to 'preprocessor.zip'\n"
          ]
        }
      ]
    },
    {
      "cell_type": "code",
      "source": [
        "# Save tf.keras model (or any tensorflow model) to local ONNX file\n",
        "from aimodelshare.aimsonnx import model_to_onnx\n",
        "\n",
        "onnx_model = model_to_onnx(model, framework='keras',\n",
        "                          transfer_learning=False,\n",
        "                          deep_learning=True)\n",
        "\n",
        "with open(\"model.onnx\", \"wb\") as f:\n",
        "    f.write(onnx_model.SerializeToString())"
      ],
      "metadata": {
        "id": "0LBH84uXkPT7"
      },
      "execution_count": null,
      "outputs": []
    },
    {
      "cell_type": "code",
      "source": [],
      "metadata": {
        "colab": {
          "base_uri": "https://localhost:8080/"
        },
        "id": "koDtqKi6jacf",
        "outputId": "2a0244be-fe1f-462f-de32-2f72c28ea65a"
      },
      "execution_count": null,
      "outputs": [
        {
          "output_type": "stream",
          "name": "stdout",
          "text": [
            "41/41 [==============================] - 2s 56ms/step\n"
          ]
        }
      ]
    },
    {
      "cell_type": "code",
      "source": [
        "apiurl='https://bb4mkgq8sb.execute-api.us-east-2.amazonaws.com/prod/m'\n",
        "\n",
        "import aimodelshare as ai\n",
        "experiment= ai.Experiment(apiurl)\n",
        "\n",
        "from aimodelshare.aws import set_credentials\n",
        "set_credentials(apiurl=apiurl)"
      ],
      "metadata": {
        "colab": {
          "base_uri": "https://localhost:8080/"
        },
        "id": "mem_vtWdkEuN",
        "outputId": "7fa89bff-a41a-4e7c-8a7d-48d388c5c9a7"
      },
      "execution_count": null,
      "outputs": [
        {
          "output_type": "stream",
          "name": "stdout",
          "text": [
            "AI Modelshare Username:··········\n",
            "AI Modelshare Password:··········\n",
            "AI Model Share login credentials set successfully.\n"
          ]
        }
      ]
    },
    {
      "cell_type": "code",
      "source": [
        "# Submit Model 1 to Competition Leaderboard\n",
        "experiment.submit_model(model_filepath = \"model.onnx\",\n",
        "                                 preprocessor_filepath=\"preprocessor.zip\",\n",
        "                                 prediction_submission=prediction_labels)"
      ],
      "metadata": {
        "colab": {
          "base_uri": "https://localhost:8080/"
        },
        "id": "0De2jogVmg9N",
        "outputId": "68ff5eff-5c16-4e7f-fd7c-12ef008668b8"
      },
      "execution_count": null,
      "outputs": [
        {
          "output_type": "stream",
          "name": "stderr",
          "text": [
            "/usr/local/lib/python3.9/dist-packages/aimodelshare/model.py:302: FutureWarning: The frame.append method is deprecated and will be removed from pandas in a future version. Use pandas.concat instead.\n",
            "  leaderboard = leaderboard.append(metadata, ignore_index=True, sort=False)\n",
            "/usr/local/lib/python3.9/dist-packages/aimodelshare/model.py:304: PerformanceWarning: DataFrame is highly fragmented.  This is usually the result of calling `frame.insert` many times, which has poor performance.  Consider joining all columns at once using pd.concat(axis=1) instead. To get a de-fragmented frame, use `newframe = frame.copy()`\n",
            "  leaderboard['username']=leaderboard.pop(\"username\")\n",
            "/usr/local/lib/python3.9/dist-packages/aimodelshare/model.py:305: PerformanceWarning: DataFrame is highly fragmented.  This is usually the result of calling `frame.insert` many times, which has poor performance.  Consider joining all columns at once using pd.concat(axis=1) instead. To get a de-fragmented frame, use `newframe = frame.copy()`\n",
            "  leaderboard['timestamp'] = leaderboard.pop(\"timestamp\")\n",
            "/usr/local/lib/python3.9/dist-packages/aimodelshare/model.py:306: PerformanceWarning: DataFrame is highly fragmented.  This is usually the result of calling `frame.insert` many times, which has poor performance.  Consider joining all columns at once using pd.concat(axis=1) instead. To get a de-fragmented frame, use `newframe = frame.copy()`\n",
            "  leaderboard['version'] = leaderboard.pop(\"version\")\n",
            "/usr/local/lib/python3.9/dist-packages/aimodelshare/model.py:302: FutureWarning: The frame.append method is deprecated and will be removed from pandas in a future version. Use pandas.concat instead.\n",
            "  leaderboard = leaderboard.append(metadata, ignore_index=True, sort=False)\n",
            "/usr/local/lib/python3.9/dist-packages/aimodelshare/model.py:304: PerformanceWarning: DataFrame is highly fragmented.  This is usually the result of calling `frame.insert` many times, which has poor performance.  Consider joining all columns at once using pd.concat(axis=1) instead. To get a de-fragmented frame, use `newframe = frame.copy()`\n",
            "  leaderboard['username']=leaderboard.pop(\"username\")\n",
            "/usr/local/lib/python3.9/dist-packages/aimodelshare/model.py:305: PerformanceWarning: DataFrame is highly fragmented.  This is usually the result of calling `frame.insert` many times, which has poor performance.  Consider joining all columns at once using pd.concat(axis=1) instead. To get a de-fragmented frame, use `newframe = frame.copy()`\n",
            "  leaderboard['timestamp'] = leaderboard.pop(\"timestamp\")\n",
            "/usr/local/lib/python3.9/dist-packages/aimodelshare/model.py:306: PerformanceWarning: DataFrame is highly fragmented.  This is usually the result of calling `frame.insert` many times, which has poor performance.  Consider joining all columns at once using pd.concat(axis=1) instead. To get a de-fragmented frame, use `newframe = frame.copy()`\n",
            "  leaderboard['version'] = leaderboard.pop(\"version\")\n"
          ]
        },
        {
          "output_type": "stream",
          "name": "stdout",
          "text": [
            "Insert search tags to help users find your model (optional): \n",
            "Provide any useful notes about your model (optional): \n",
            "\n",
            "Your model has been submitted as model version 394\n",
            "\n",
            "To submit code used to create this model or to view current leaderboard navigate to Model Playground: \n",
            "\n",
            " https://www.modelshare.org/detail/model:3340\n"
          ]
        }
      ]
    },
    {
      "cell_type": "code",
      "source": [
        "data = experiment.get_leaderboard()\n",
        "experiment.stylize_leaderboard(data)"
      ],
      "metadata": {
        "id": "AR1HeR4nst7R"
      },
      "execution_count": null,
      "outputs": []
    },
    {
      "cell_type": "markdown",
      "source": [
        "## Second apporach:A CONV2D model with Maxpooling and  Batch normalization"
      ],
      "metadata": {
        "id": "opQiLdqJSemG"
      }
    },
    {
      "cell_type": "code",
      "source": [
        "#If you run out of Colab memory restart runtime, reload data and try again\n",
        "import pickle\n",
        "  \n",
        "# Open the file in binary mode\n",
        "with open('X_train.pkl', 'rb') as file:\n",
        "    # Call load method to deserialze\n",
        "    X_train = pickle.load(file)\n",
        "\n",
        "\n",
        "# Open the file in binary mode\n",
        "with open('X_test.pkl', 'rb') as file:\n",
        "    # Call load method to deserialze\n",
        "    X_test = pickle.load(file)    \n",
        "\n",
        "# Open the file in binary mode\n",
        "with open('y_train.pkl', 'rb') as file:\n",
        "    # Call load method to deserialze\n",
        "    y_train = pickle.load(file)\n",
        "\n",
        "X_train.shape, y_train.shape"
      ],
      "metadata": {
        "colab": {
          "base_uri": "https://localhost:8080/"
        },
        "id": "ofJMU1VTSdm1",
        "outputId": "3f606986-6470-4864-8647-538990e07ea9"
      },
      "execution_count": null,
      "outputs": [
        {
          "output_type": "execute_result",
          "data": {
            "text/plain": [
              "((2741, 192, 192, 3), (2741, 3))"
            ]
          },
          "metadata": {},
          "execution_count": 1
        }
      ]
    },
    {
      "cell_type": "code",
      "source": [
        "import tensorflow as tf\n",
        "\n",
        "with tf.device('/device:GPU:0'): #\"/GPU:0\": Short-hand notation for the first GPU of your machine that is visible to TensorFlow.\n",
        "\n",
        "  model = tf.keras.Sequential([\n",
        "    # input: images of size Sample size, height, width, channels 1x192x192x3 pixels (the three stands for RGB channels)    \n",
        "    tf.keras.layers.Conv2D(kernel_size=3, filters=32, padding='same', activation='relu', input_shape=(192, 192, 3)),\n",
        "    tf.keras.layers.Conv2D(kernel_size=1, filters=32, padding='same', activation='relu'),\n",
        "    tf.keras.layers.BatchNormalization(),\n",
        "    tf.keras.layers.MaxPooling2D(pool_size=2),\n",
        "    tf.keras.layers.Conv2D(kernel_size=3, filters=128, padding='same', activation='relu'),\n",
        "    tf.keras.layers.Conv2D(kernel_size=1, filters=128, padding='same', activation='relu'),\n",
        "    tf.keras.layers.BatchNormalization(),\n",
        "    tf.keras.layers.MaxPooling2D(pool_size=2),\n",
        "    tf.keras.layers.Conv2D(kernel_size=3, filters=128, padding='same', activation='relu'),\n",
        "    tf.keras.layers.Conv2D(kernel_size=1, filters=128, padding='same', activation='relu'),\n",
        "    tf.keras.layers.BatchNormalization(),\n",
        "    tf.keras.layers.MaxPooling2D(pool_size=2),\n",
        "    tf.keras.layers.Conv2D(kernel_size=3, filters=512, padding='same', activation='relu'),\n",
        "    tf.keras.layers.Conv2D(kernel_size=1, filters=512, padding='same', activation='relu'),\n",
        "    tf.keras.layers.MaxPooling2D(pool_size=2),\n",
        "    tf.keras.layers.BatchNormalization(),\n",
        "    tf.keras.layers.Conv2D(kernel_size=3, filters=512, padding='same', activation='relu'),\n",
        "    tf.keras.layers.Conv2D(kernel_size=1, filters=512, padding='same', activation='relu'),\n",
        "    tf.keras.layers.Flatten(),\n",
        "    # classifying into 5 categories\n",
        "    tf.keras.layers.Dense(3, activation='softmax')\n",
        "  ])\n",
        "  #from tensorflow.python.keras.callbacks import ReduceLROnPlateau\n",
        "  #red_lr= ReduceLROnPlateau(monitor='val_acc',patience=3,verbose=1,factor=0.1) # dividing lr by 10 when val_accuracy fails to improve after 3 epochs\n",
        "\n",
        "  model.compile(\n",
        "    optimizer=\"adam\", # to use callback set lr arg such as Adam(lr=0.001) instead\n",
        "    loss= 'categorical_crossentropy',\n",
        "    metrics=['accuracy'])\n",
        "  \n",
        "  # Fitting the CNN to the Training set\n",
        "  model.fit(X_train, y_train, epochs = 5, verbose=1,validation_split=.2)"
      ],
      "metadata": {
        "colab": {
          "base_uri": "https://localhost:8080/"
        },
        "id": "Qj8ZtPUSWjBZ",
        "outputId": "064ea2a1-156b-4ff4-93a8-2d0552a4a0b3"
      },
      "execution_count": null,
      "outputs": [
        {
          "output_type": "stream",
          "name": "stdout",
          "text": [
            "Epoch 1/5\n",
            "69/69 [==============================] - 24s 177ms/step - loss: 0.9990 - accuracy: 0.7961 - val_loss: 1.3913 - val_accuracy: 0.3206\n",
            "Epoch 2/5\n",
            "69/69 [==============================] - 9s 136ms/step - loss: 0.2731 - accuracy: 0.8992 - val_loss: 1.1592 - val_accuracy: 0.4699\n",
            "Epoch 3/5\n",
            "69/69 [==============================] - 9s 134ms/step - loss: 0.2483 - accuracy: 0.9097 - val_loss: 1.6692 - val_accuracy: 0.3279\n",
            "Epoch 4/5\n",
            "69/69 [==============================] - 9s 136ms/step - loss: 0.1966 - accuracy: 0.9279 - val_loss: 1.2272 - val_accuracy: 0.4791\n",
            "Epoch 5/5\n",
            "69/69 [==============================] - 9s 134ms/step - loss: 0.1801 - accuracy: 0.9443 - val_loss: 2.3859 - val_accuracy: 0.3734\n"
          ]
        }
      ]
    },
    {
      "cell_type": "code",
      "source": [
        "# save the model\n",
        "model.save(\"model2\", save_format=\"h5\")"
      ],
      "metadata": {
        "id": "zB_4BVagYicQ"
      },
      "execution_count": null,
      "outputs": []
    },
    {
      "cell_type": "code",
      "source": [
        "import tensorflow as tf\n",
        "model = tf.keras.models.load_model('model2',compile=False)\n",
        "model.compile(\n",
        "    optimizer=\"adam\", # to use callback set lr arg such as Adam(lr=0.001) instead\n",
        "    loss= 'categorical_crossentropy',\n",
        "    metrics=['accuracy'])\n",
        "model.summary()"
      ],
      "metadata": {
        "colab": {
          "base_uri": "https://localhost:8080/"
        },
        "id": "3-1WRkhlYint",
        "outputId": "113f393d-7305-46e0-c334-6b63102c69d2"
      },
      "execution_count": null,
      "outputs": [
        {
          "output_type": "stream",
          "name": "stdout",
          "text": [
            "Model: \"sequential\"\n",
            "_________________________________________________________________\n",
            " Layer (type)                Output Shape              Param #   \n",
            "=================================================================\n",
            " conv2d (Conv2D)             (None, 192, 192, 32)      896       \n",
            "                                                                 \n",
            " conv2d_1 (Conv2D)           (None, 192, 192, 32)      1056      \n",
            "                                                                 \n",
            " batch_normalization (BatchN  (None, 192, 192, 32)     128       \n",
            " ormalization)                                                   \n",
            "                                                                 \n",
            " max_pooling2d (MaxPooling2D  (None, 96, 96, 32)       0         \n",
            " )                                                               \n",
            "                                                                 \n",
            " conv2d_2 (Conv2D)           (None, 96, 96, 128)       36992     \n",
            "                                                                 \n",
            " conv2d_3 (Conv2D)           (None, 96, 96, 128)       16512     \n",
            "                                                                 \n",
            " batch_normalization_1 (Batc  (None, 96, 96, 128)      512       \n",
            " hNormalization)                                                 \n",
            "                                                                 \n",
            " max_pooling2d_1 (MaxPooling  (None, 48, 48, 128)      0         \n",
            " 2D)                                                             \n",
            "                                                                 \n",
            " conv2d_4 (Conv2D)           (None, 48, 48, 128)       147584    \n",
            "                                                                 \n",
            " conv2d_5 (Conv2D)           (None, 48, 48, 128)       16512     \n",
            "                                                                 \n",
            " batch_normalization_2 (Batc  (None, 48, 48, 128)      512       \n",
            " hNormalization)                                                 \n",
            "                                                                 \n",
            " max_pooling2d_2 (MaxPooling  (None, 24, 24, 128)      0         \n",
            " 2D)                                                             \n",
            "                                                                 \n",
            " conv2d_6 (Conv2D)           (None, 24, 24, 512)       590336    \n",
            "                                                                 \n",
            " conv2d_7 (Conv2D)           (None, 24, 24, 512)       262656    \n",
            "                                                                 \n",
            " max_pooling2d_3 (MaxPooling  (None, 12, 12, 512)      0         \n",
            " 2D)                                                             \n",
            "                                                                 \n",
            " batch_normalization_3 (Batc  (None, 12, 12, 512)      2048      \n",
            " hNormalization)                                                 \n",
            "                                                                 \n",
            " conv2d_8 (Conv2D)           (None, 12, 12, 512)       2359808   \n",
            "                                                                 \n",
            " conv2d_9 (Conv2D)           (None, 12, 12, 512)       262656    \n",
            "                                                                 \n",
            " flatten (Flatten)           (None, 73728)             0         \n",
            "                                                                 \n",
            " dense (Dense)               (None, 3)                 221187    \n",
            "                                                                 \n",
            "=================================================================\n",
            "Total params: 3,919,395\n",
            "Trainable params: 3,917,795\n",
            "Non-trainable params: 1,600\n",
            "_________________________________________________________________\n"
          ]
        }
      ]
    },
    {
      "cell_type": "code",
      "source": [
        "# Save tf.keras model (or any tensorflow model) to local ONNX file\n",
        "from aimodelshare.aimsonnx import model_to_onnx\n",
        "\n",
        "onnx_model = model_to_onnx(model, framework='keras',\n",
        "                          transfer_learning=False,\n",
        "                          deep_learning=True)\n",
        "\n",
        "with open(\"model2.onnx\", \"wb\") as f:\n",
        "    f.write(onnx_model.SerializeToString())"
      ],
      "metadata": {
        "id": "V7Oo3B43YiwE"
      },
      "execution_count": null,
      "outputs": []
    },
    {
      "cell_type": "code",
      "source": [
        "apiurl='https://bb4mkgq8sb.execute-api.us-east-2.amazonaws.com/prod/m'\n",
        "\n",
        "import aimodelshare as ai\n",
        "experiment= ai.Experiment(apiurl)\n",
        "\n",
        "from aimodelshare.aws import set_credentials\n",
        "set_credentials(apiurl=apiurl)"
      ],
      "metadata": {
        "colab": {
          "base_uri": "https://localhost:8080/"
        },
        "id": "xTZ3KGHZYi4m",
        "outputId": "46ce36bc-84c9-4c8f-f129-bebe3f644cf8"
      },
      "execution_count": null,
      "outputs": [
        {
          "output_type": "stream",
          "name": "stdout",
          "text": [
            "AI Modelshare Username:··········\n",
            "AI Modelshare Password:··········\n",
            "AI Model Share login credentials set successfully.\n"
          ]
        }
      ]
    },
    {
      "cell_type": "code",
      "source": [
        "# Submit Model\n",
        "\n",
        "#-- Generate predicted y values\n",
        "prediction_column_index=model.predict(X_test).argmax(axis=1)\n",
        "\n",
        "# extract correct prediction labels \n",
        "prediction_labels = [y_train.columns[i] for i in prediction_column_index]\n",
        "\n",
        "# Submit Model 2 to Competition Leaderboard\n",
        "experiment.submit_model(model_filepath = \"model2.onnx\",\n",
        "                                 prediction_submission=prediction_labels,\n",
        "                                 preprocessor_filepath=\"preprocessor.zip\")"
      ],
      "metadata": {
        "id": "f_uUBHRNYjAQ"
      },
      "execution_count": null,
      "outputs": []
    },
    {
      "cell_type": "markdown",
      "source": [
        "### Third approach: Transfer learning"
      ],
      "metadata": {
        "id": "ydUlGImsYcuO"
      }
    },
    {
      "cell_type": "code",
      "source": [
        "#If you run out of Colab memory restart runtime, reload data and try again\n",
        "import pickle\n",
        "  \n",
        "# Open the file in binary mode\n",
        "with open('X_train.pkl', 'rb') as file:\n",
        "    # Call load method to deserialze\n",
        "    X_train = pickle.load(file)\n",
        "\n",
        "# Open the file in binary mode\n",
        "with open('X_test.pkl', 'rb') as file:\n",
        "    # Call load method to deserialze\n",
        "    X_test = pickle.load(file)    \n",
        "\n",
        "# Open the file in binary mode\n",
        "with open('y_train.pkl', 'rb') as file:\n",
        "    # Call load method to deserialze\n",
        "    y_train = pickle.load(file)\n",
        "\n",
        "X_train.shape, y_train.shape"
      ],
      "metadata": {
        "colab": {
          "base_uri": "https://localhost:8080/"
        },
        "id": "-QBC9ZHgSdqI",
        "outputId": "7ae1c947-13d9-474b-e255-df411f3fa131"
      },
      "execution_count": null,
      "outputs": [
        {
          "output_type": "execute_result",
          "data": {
            "text/plain": [
              "((2741, 192, 192, 3), (2741, 3))"
            ]
          },
          "metadata": {},
          "execution_count": 1
        }
      ]
    },
    {
      "cell_type": "code",
      "source": [
        "from tensorflow.keras.applications.vgg16 import VGG16\n",
        "from tensorflow.keras.models import Sequential\n",
        "from tensorflow.keras.layers import Dense, Flatten, Dropout, BatchNormalization\n",
        "\n",
        "# load the pre-trained VGG16 model, excluding the top layers\n",
        "base_model = VGG16(weights='imagenet', include_top=False, input_shape=(192, 192, 3))\n",
        "\n",
        "# set the layers of the base model to non-trainable\n",
        "for layer in base_model.layers:\n",
        "    layer.trainable = False\n",
        "\n",
        "# create a new model on top of the imported model\n",
        "model = Sequential()\n",
        "model.add(base_model)\n",
        "model.add(Flatten())\n",
        "model.add(Dense(256, activation='relu'))\n",
        "model.add(BatchNormalization())\n",
        "model.add(Dropout(0.5))\n",
        "model.add(Dense(3, activation='softmax'))\n",
        "\n",
        "model.compile(optimizer='adam', loss='categorical_crossentropy', metrics=['accuracy'])\n",
        "\n",
        "# Fitting the model on the training data\n",
        "model.fit(X_train, y_train, epochs = 5, verbose=1,validation_split=.2)"
      ],
      "metadata": {
        "colab": {
          "base_uri": "https://localhost:8080/"
        },
        "id": "7LR0Utv2Sd4J",
        "outputId": "92c6bdb4-2d3a-40a6-d098-8ee3a55dbe53"
      },
      "execution_count": null,
      "outputs": [
        {
          "output_type": "stream",
          "name": "stdout",
          "text": [
            "Epoch 1/5\n",
            "69/69 [==============================] - 17s 177ms/step - loss: 0.3649 - accuracy: 0.8755 - val_loss: 0.4072 - val_accuracy: 0.8488\n",
            "Epoch 2/5\n",
            "69/69 [==============================] - 10s 138ms/step - loss: 0.1459 - accuracy: 0.9443 - val_loss: 0.3448 - val_accuracy: 0.8725\n",
            "Epoch 3/5\n",
            "69/69 [==============================] - 10s 138ms/step - loss: 0.0828 - accuracy: 0.9731 - val_loss: 0.1804 - val_accuracy: 0.9326\n",
            "Epoch 4/5\n",
            "69/69 [==============================] - 10s 139ms/step - loss: 0.0659 - accuracy: 0.9763 - val_loss: 0.2179 - val_accuracy: 0.9235\n",
            "Epoch 5/5\n",
            "69/69 [==============================] - 10s 140ms/step - loss: 0.0445 - accuracy: 0.9849 - val_loss: 0.2719 - val_accuracy: 0.9253\n"
          ]
        },
        {
          "output_type": "execute_result",
          "data": {
            "text/plain": [
              "<keras.callbacks.History at 0x7f2af00fda60>"
            ]
          },
          "metadata": {},
          "execution_count": 3
        }
      ]
    },
    {
      "cell_type": "code",
      "source": [
        "# save the model\n",
        "model.save(\"model3\", save_format=\"h5\")"
      ],
      "metadata": {
        "id": "haJlzksMSd6x"
      },
      "execution_count": null,
      "outputs": []
    },
    {
      "cell_type": "code",
      "source": [
        "import tensorflow as tf\n",
        "model = tf.keras.models.load_model('model3',compile=False)\n",
        "model.compile(\n",
        "    optimizer=\"adam\", # to use callback set lr arg such as Adam(lr=0.001) instead\n",
        "    loss= 'categorical_crossentropy',\n",
        "    metrics=['accuracy'])\n",
        "model.summary()"
      ],
      "metadata": {
        "colab": {
          "base_uri": "https://localhost:8080/"
        },
        "id": "KABulwnVSd9k",
        "outputId": "d3ebec47-4fb6-4680-b01a-f90dce2315ff"
      },
      "execution_count": null,
      "outputs": [
        {
          "output_type": "stream",
          "name": "stdout",
          "text": [
            "Model: \"sequential\"\n",
            "_________________________________________________________________\n",
            " Layer (type)                Output Shape              Param #   \n",
            "=================================================================\n",
            " vgg16 (Functional)          (None, 6, 6, 512)         14714688  \n",
            "                                                                 \n",
            " flatten (Flatten)           (None, 18432)             0         \n",
            "                                                                 \n",
            " dense (Dense)               (None, 256)               4718848   \n",
            "                                                                 \n",
            " batch_normalization (BatchN  (None, 256)              1024      \n",
            " ormalization)                                                   \n",
            "                                                                 \n",
            " dropout (Dropout)           (None, 256)               0         \n",
            "                                                                 \n",
            " dense_1 (Dense)             (None, 3)                 771       \n",
            "                                                                 \n",
            "=================================================================\n",
            "Total params: 19,435,331\n",
            "Trainable params: 4,720,131\n",
            "Non-trainable params: 14,715,200\n",
            "_________________________________________________________________\n"
          ]
        }
      ]
    },
    {
      "cell_type": "code",
      "source": [
        "from aimodelshare.aimsonnx import model_to_onnx\n",
        "\n",
        "onnx_model = model_to_onnx(model, framework='keras',\n",
        "                          transfer_learning=False,\n",
        "                          deep_learning=True)\n",
        "\n",
        "with open(\"model3.onnx\", \"wb\") as f:\n",
        "    f.write(onnx_model.SerializeToString())"
      ],
      "metadata": {
        "id": "TU_S8niJSeAP"
      },
      "execution_count": null,
      "outputs": []
    },
    {
      "cell_type": "code",
      "source": [
        "apiurl='https://bb4mkgq8sb.execute-api.us-east-2.amazonaws.com/prod/m'\n",
        "\n",
        "import aimodelshare as ai\n",
        "experiment= ai.Experiment(apiurl)\n",
        "\n",
        "from aimodelshare.aws import set_credentials\n",
        "set_credentials(apiurl=apiurl)"
      ],
      "metadata": {
        "colab": {
          "base_uri": "https://localhost:8080/"
        },
        "id": "DpfpJ-OXSeCm",
        "outputId": "ddcb11dc-3432-4d62-f9fd-ec14db8feaf0"
      },
      "execution_count": null,
      "outputs": [
        {
          "output_type": "stream",
          "name": "stdout",
          "text": [
            "AI Modelshare Username:··········\n",
            "AI Modelshare Password:··········\n",
            "AI Model Share login credentials set successfully.\n"
          ]
        }
      ]
    },
    {
      "cell_type": "code",
      "source": [
        "# Submit Model\n",
        "\n",
        "#-- Generate predicted y values \n",
        "prediction_column_index=model.predict(X_test).argmax(axis=1)\n",
        "\n",
        "# extract correct prediction labels \n",
        "prediction_labels = [y_train.columns[i] for i in prediction_column_index]\n",
        "\n",
        "# Submit Model 2 to Competition Leaderboard\n",
        "experiment.submit_model(model_filepath = \"model3.onnx\",\n",
        "                                 prediction_submission=prediction_labels,\n",
        "                                 preprocessor_filepath=\"preprocessor.zip\")"
      ],
      "metadata": {
        "id": "T4kzOtW1SeFA"
      },
      "execution_count": null,
      "outputs": []
    },
    {
      "cell_type": "markdown",
      "source": [
        "The previos 3 model were submitted to Covid X-ray Diagnostic AI Model Share competition"
      ],
      "metadata": {
        "id": "Qpx3_sn6e5n6"
      }
    },
    {
      "cell_type": "markdown",
      "source": [
        "#### Model discussion: \n",
        "After seeing the change between the 3 models presented above we can clearly see the effect that Batch normalization has on the model as its performace increased as a result of its inclusion in the model when we compare the first two. The model improved substatially when Transfer learning was used as it was buitl on top of the VGG16 architecture, both filter size and number of filter proved to be an importnat element in model performance "
      ],
      "metadata": {
        "id": "4Q330RZHdwjV"
      }
    },
    {
      "cell_type": "markdown",
      "source": [
        "### Post Discussion model 1: Tranfer learning using ResNet50\n",
        "\n"
      ],
      "metadata": {
        "id": "8eYU19nDicCI"
      }
    },
    {
      "cell_type": "code",
      "source": [
        "#If you run out of Colab memory restart runtime, reload data and try again\n",
        "import pickle\n",
        "  \n",
        "# Open the file in binary mode\n",
        "with open('X_train.pkl', 'rb') as file:\n",
        "    # Call load method to deserialze\n",
        "    X_train = pickle.load(file)\n",
        "\n",
        "# Open the file in binary mode\n",
        "with open('X_test.pkl', 'rb') as file:\n",
        "    # Call load method to deserialze\n",
        "    X_test = pickle.load(file)    \n",
        "\n",
        "# Open the file in binary mode\n",
        "with open('y_train.pkl', 'rb') as file:\n",
        "    # Call load method to deserialze\n",
        "    y_train = pickle.load(file)\n",
        "\n",
        "X_train.shape, y_train.shape"
      ],
      "metadata": {
        "colab": {
          "base_uri": "https://localhost:8080/"
        },
        "id": "KZyO0N77e4uH",
        "outputId": "e220297c-b541-4927-cc17-4a7d9450489c"
      },
      "execution_count": null,
      "outputs": [
        {
          "output_type": "execute_result",
          "data": {
            "text/plain": [
              "((2741, 192, 192, 3), (2741, 3))"
            ]
          },
          "metadata": {},
          "execution_count": 1
        }
      ]
    },
    {
      "cell_type": "code",
      "source": [
        "from tensorflow.keras.applications import ResNet50\n",
        "from tensorflow.keras.layers import Dense, Flatten, Dropout\n",
        "from tensorflow.keras.models import Model\n",
        "\n",
        "base_model = ResNet50(weights='imagenet', include_top=False, input_shape=(192, 192, 3))\n",
        "\n",
        "for layer in base_model.layers:\n",
        "    layer.trainable = False\n",
        "\n",
        "x = Flatten()(base_model.output)\n",
        "x = Dense(256, activation='relu')(x)\n",
        "x = Dropout(0.5)(x)\n",
        "predictions = Dense(3, activation='softmax')(x)\n",
        "\n",
        "model = Model(inputs=base_model.input, outputs=predictions)\n",
        "\n",
        "model.compile(optimizer='adam', loss='categorical_crossentropy', metrics=['accuracy'])\n",
        "\n",
        "# Fitting the model on the training data\n",
        "model.fit(X_train, y_train, epochs = 5, verbose=1,validation_split=.2)\n"
      ],
      "metadata": {
        "colab": {
          "base_uri": "https://localhost:8080/"
        },
        "id": "udH-kPQegjKl",
        "outputId": "8f29da6d-933d-4b83-eda0-3bdaf3523acc"
      },
      "execution_count": null,
      "outputs": [
        {
          "output_type": "stream",
          "name": "stdout",
          "text": [
            "Epoch 1/5\n",
            "69/69 [==============================] - 15s 129ms/step - loss: 1.8879 - accuracy: 0.3257 - val_loss: 1.0986 - val_accuracy: 0.3406\n",
            "Epoch 2/5\n",
            "69/69 [==============================] - 6s 91ms/step - loss: 1.1015 - accuracy: 0.3175 - val_loss: 1.0986 - val_accuracy: 0.3388\n",
            "Epoch 3/5\n",
            "69/69 [==============================] - 7s 95ms/step - loss: 1.0987 - accuracy: 0.3225 - val_loss: 1.0987 - val_accuracy: 0.3188\n",
            "Epoch 4/5\n",
            "69/69 [==============================] - 6s 91ms/step - loss: 1.0987 - accuracy: 0.3280 - val_loss: 1.0987 - val_accuracy: 0.3188\n",
            "Epoch 5/5\n",
            "69/69 [==============================] - 6s 90ms/step - loss: 1.0987 - accuracy: 0.3367 - val_loss: 1.0987 - val_accuracy: 0.3188\n"
          ]
        },
        {
          "output_type": "execute_result",
          "data": {
            "text/plain": [
              "<keras.callbacks.History at 0x7f41901dfd60>"
            ]
          },
          "metadata": {},
          "execution_count": 3
        }
      ]
    },
    {
      "cell_type": "code",
      "source": [
        "# save the model\n",
        "model.save(\"model4\", save_format=\"h5\")"
      ],
      "metadata": {
        "id": "RvoUBQmlhHdN"
      },
      "execution_count": null,
      "outputs": []
    },
    {
      "cell_type": "code",
      "source": [
        "import tensorflow as tf\n",
        "model = tf.keras.models.load_model('model4',compile=False)\n",
        "model.compile(\n",
        "    optimizer=\"adam\", # to use callback set lr arg such as Adam(lr=0.001) instead\n",
        "    loss= 'categorical_crossentropy',\n",
        "    metrics=['accuracy'])\n",
        "model.summary()"
      ],
      "metadata": {
        "colab": {
          "base_uri": "https://localhost:8080/"
        },
        "id": "Pvtu__JZhjHu",
        "outputId": "32f0c8dc-7897-4d57-c168-6fec4ceafc31"
      },
      "execution_count": null,
      "outputs": [
        {
          "output_type": "stream",
          "name": "stdout",
          "text": [
            "Model: \"model\"\n",
            "__________________________________________________________________________________________________\n",
            " Layer (type)                   Output Shape         Param #     Connected to                     \n",
            "==================================================================================================\n",
            " input_2 (InputLayer)           [(None, 192, 192, 3  0           []                               \n",
            "                                )]                                                                \n",
            "                                                                                                  \n",
            " conv1_pad (ZeroPadding2D)      (None, 198, 198, 3)  0           ['input_2[0][0]']                \n",
            "                                                                                                  \n",
            " conv1_conv (Conv2D)            (None, 96, 96, 64)   9472        ['conv1_pad[0][0]']              \n",
            "                                                                                                  \n",
            " conv1_bn (BatchNormalization)  (None, 96, 96, 64)   256         ['conv1_conv[0][0]']             \n",
            "                                                                                                  \n",
            " conv1_relu (Activation)        (None, 96, 96, 64)   0           ['conv1_bn[0][0]']               \n",
            "                                                                                                  \n",
            " pool1_pad (ZeroPadding2D)      (None, 98, 98, 64)   0           ['conv1_relu[0][0]']             \n",
            "                                                                                                  \n",
            " pool1_pool (MaxPooling2D)      (None, 48, 48, 64)   0           ['pool1_pad[0][0]']              \n",
            "                                                                                                  \n",
            " conv2_block1_1_conv (Conv2D)   (None, 48, 48, 64)   4160        ['pool1_pool[0][0]']             \n",
            "                                                                                                  \n",
            " conv2_block1_1_bn (BatchNormal  (None, 48, 48, 64)  256         ['conv2_block1_1_conv[0][0]']    \n",
            " ization)                                                                                         \n",
            "                                                                                                  \n",
            " conv2_block1_1_relu (Activatio  (None, 48, 48, 64)  0           ['conv2_block1_1_bn[0][0]']      \n",
            " n)                                                                                               \n",
            "                                                                                                  \n",
            " conv2_block1_2_conv (Conv2D)   (None, 48, 48, 64)   36928       ['conv2_block1_1_relu[0][0]']    \n",
            "                                                                                                  \n",
            " conv2_block1_2_bn (BatchNormal  (None, 48, 48, 64)  256         ['conv2_block1_2_conv[0][0]']    \n",
            " ization)                                                                                         \n",
            "                                                                                                  \n",
            " conv2_block1_2_relu (Activatio  (None, 48, 48, 64)  0           ['conv2_block1_2_bn[0][0]']      \n",
            " n)                                                                                               \n",
            "                                                                                                  \n",
            " conv2_block1_0_conv (Conv2D)   (None, 48, 48, 256)  16640       ['pool1_pool[0][0]']             \n",
            "                                                                                                  \n",
            " conv2_block1_3_conv (Conv2D)   (None, 48, 48, 256)  16640       ['conv2_block1_2_relu[0][0]']    \n",
            "                                                                                                  \n",
            " conv2_block1_0_bn (BatchNormal  (None, 48, 48, 256)  1024       ['conv2_block1_0_conv[0][0]']    \n",
            " ization)                                                                                         \n",
            "                                                                                                  \n",
            " conv2_block1_3_bn (BatchNormal  (None, 48, 48, 256)  1024       ['conv2_block1_3_conv[0][0]']    \n",
            " ization)                                                                                         \n",
            "                                                                                                  \n",
            " conv2_block1_add (Add)         (None, 48, 48, 256)  0           ['conv2_block1_0_bn[0][0]',      \n",
            "                                                                  'conv2_block1_3_bn[0][0]']      \n",
            "                                                                                                  \n",
            " conv2_block1_out (Activation)  (None, 48, 48, 256)  0           ['conv2_block1_add[0][0]']       \n",
            "                                                                                                  \n",
            " conv2_block2_1_conv (Conv2D)   (None, 48, 48, 64)   16448       ['conv2_block1_out[0][0]']       \n",
            "                                                                                                  \n",
            " conv2_block2_1_bn (BatchNormal  (None, 48, 48, 64)  256         ['conv2_block2_1_conv[0][0]']    \n",
            " ization)                                                                                         \n",
            "                                                                                                  \n",
            " conv2_block2_1_relu (Activatio  (None, 48, 48, 64)  0           ['conv2_block2_1_bn[0][0]']      \n",
            " n)                                                                                               \n",
            "                                                                                                  \n",
            " conv2_block2_2_conv (Conv2D)   (None, 48, 48, 64)   36928       ['conv2_block2_1_relu[0][0]']    \n",
            "                                                                                                  \n",
            " conv2_block2_2_bn (BatchNormal  (None, 48, 48, 64)  256         ['conv2_block2_2_conv[0][0]']    \n",
            " ization)                                                                                         \n",
            "                                                                                                  \n",
            " conv2_block2_2_relu (Activatio  (None, 48, 48, 64)  0           ['conv2_block2_2_bn[0][0]']      \n",
            " n)                                                                                               \n",
            "                                                                                                  \n",
            " conv2_block2_3_conv (Conv2D)   (None, 48, 48, 256)  16640       ['conv2_block2_2_relu[0][0]']    \n",
            "                                                                                                  \n",
            " conv2_block2_3_bn (BatchNormal  (None, 48, 48, 256)  1024       ['conv2_block2_3_conv[0][0]']    \n",
            " ization)                                                                                         \n",
            "                                                                                                  \n",
            " conv2_block2_add (Add)         (None, 48, 48, 256)  0           ['conv2_block1_out[0][0]',       \n",
            "                                                                  'conv2_block2_3_bn[0][0]']      \n",
            "                                                                                                  \n",
            " conv2_block2_out (Activation)  (None, 48, 48, 256)  0           ['conv2_block2_add[0][0]']       \n",
            "                                                                                                  \n",
            " conv2_block3_1_conv (Conv2D)   (None, 48, 48, 64)   16448       ['conv2_block2_out[0][0]']       \n",
            "                                                                                                  \n",
            " conv2_block3_1_bn (BatchNormal  (None, 48, 48, 64)  256         ['conv2_block3_1_conv[0][0]']    \n",
            " ization)                                                                                         \n",
            "                                                                                                  \n",
            " conv2_block3_1_relu (Activatio  (None, 48, 48, 64)  0           ['conv2_block3_1_bn[0][0]']      \n",
            " n)                                                                                               \n",
            "                                                                                                  \n",
            " conv2_block3_2_conv (Conv2D)   (None, 48, 48, 64)   36928       ['conv2_block3_1_relu[0][0]']    \n",
            "                                                                                                  \n",
            " conv2_block3_2_bn (BatchNormal  (None, 48, 48, 64)  256         ['conv2_block3_2_conv[0][0]']    \n",
            " ization)                                                                                         \n",
            "                                                                                                  \n",
            " conv2_block3_2_relu (Activatio  (None, 48, 48, 64)  0           ['conv2_block3_2_bn[0][0]']      \n",
            " n)                                                                                               \n",
            "                                                                                                  \n",
            " conv2_block3_3_conv (Conv2D)   (None, 48, 48, 256)  16640       ['conv2_block3_2_relu[0][0]']    \n",
            "                                                                                                  \n",
            " conv2_block3_3_bn (BatchNormal  (None, 48, 48, 256)  1024       ['conv2_block3_3_conv[0][0]']    \n",
            " ization)                                                                                         \n",
            "                                                                                                  \n",
            " conv2_block3_add (Add)         (None, 48, 48, 256)  0           ['conv2_block2_out[0][0]',       \n",
            "                                                                  'conv2_block3_3_bn[0][0]']      \n",
            "                                                                                                  \n",
            " conv2_block3_out (Activation)  (None, 48, 48, 256)  0           ['conv2_block3_add[0][0]']       \n",
            "                                                                                                  \n",
            " conv3_block1_1_conv (Conv2D)   (None, 24, 24, 128)  32896       ['conv2_block3_out[0][0]']       \n",
            "                                                                                                  \n",
            " conv3_block1_1_bn (BatchNormal  (None, 24, 24, 128)  512        ['conv3_block1_1_conv[0][0]']    \n",
            " ization)                                                                                         \n",
            "                                                                                                  \n",
            " conv3_block1_1_relu (Activatio  (None, 24, 24, 128)  0          ['conv3_block1_1_bn[0][0]']      \n",
            " n)                                                                                               \n",
            "                                                                                                  \n",
            " conv3_block1_2_conv (Conv2D)   (None, 24, 24, 128)  147584      ['conv3_block1_1_relu[0][0]']    \n",
            "                                                                                                  \n",
            " conv3_block1_2_bn (BatchNormal  (None, 24, 24, 128)  512        ['conv3_block1_2_conv[0][0]']    \n",
            " ization)                                                                                         \n",
            "                                                                                                  \n",
            " conv3_block1_2_relu (Activatio  (None, 24, 24, 128)  0          ['conv3_block1_2_bn[0][0]']      \n",
            " n)                                                                                               \n",
            "                                                                                                  \n",
            " conv3_block1_0_conv (Conv2D)   (None, 24, 24, 512)  131584      ['conv2_block3_out[0][0]']       \n",
            "                                                                                                  \n",
            " conv3_block1_3_conv (Conv2D)   (None, 24, 24, 512)  66048       ['conv3_block1_2_relu[0][0]']    \n",
            "                                                                                                  \n",
            " conv3_block1_0_bn (BatchNormal  (None, 24, 24, 512)  2048       ['conv3_block1_0_conv[0][0]']    \n",
            " ization)                                                                                         \n",
            "                                                                                                  \n",
            " conv3_block1_3_bn (BatchNormal  (None, 24, 24, 512)  2048       ['conv3_block1_3_conv[0][0]']    \n",
            " ization)                                                                                         \n",
            "                                                                                                  \n",
            " conv3_block1_add (Add)         (None, 24, 24, 512)  0           ['conv3_block1_0_bn[0][0]',      \n",
            "                                                                  'conv3_block1_3_bn[0][0]']      \n",
            "                                                                                                  \n",
            " conv3_block1_out (Activation)  (None, 24, 24, 512)  0           ['conv3_block1_add[0][0]']       \n",
            "                                                                                                  \n",
            " conv3_block2_1_conv (Conv2D)   (None, 24, 24, 128)  65664       ['conv3_block1_out[0][0]']       \n",
            "                                                                                                  \n",
            " conv3_block2_1_bn (BatchNormal  (None, 24, 24, 128)  512        ['conv3_block2_1_conv[0][0]']    \n",
            " ization)                                                                                         \n",
            "                                                                                                  \n",
            " conv3_block2_1_relu (Activatio  (None, 24, 24, 128)  0          ['conv3_block2_1_bn[0][0]']      \n",
            " n)                                                                                               \n",
            "                                                                                                  \n",
            " conv3_block2_2_conv (Conv2D)   (None, 24, 24, 128)  147584      ['conv3_block2_1_relu[0][0]']    \n",
            "                                                                                                  \n",
            " conv3_block2_2_bn (BatchNormal  (None, 24, 24, 128)  512        ['conv3_block2_2_conv[0][0]']    \n",
            " ization)                                                                                         \n",
            "                                                                                                  \n",
            " conv3_block2_2_relu (Activatio  (None, 24, 24, 128)  0          ['conv3_block2_2_bn[0][0]']      \n",
            " n)                                                                                               \n",
            "                                                                                                  \n",
            " conv3_block2_3_conv (Conv2D)   (None, 24, 24, 512)  66048       ['conv3_block2_2_relu[0][0]']    \n",
            "                                                                                                  \n",
            " conv3_block2_3_bn (BatchNormal  (None, 24, 24, 512)  2048       ['conv3_block2_3_conv[0][0]']    \n",
            " ization)                                                                                         \n",
            "                                                                                                  \n",
            " conv3_block2_add (Add)         (None, 24, 24, 512)  0           ['conv3_block1_out[0][0]',       \n",
            "                                                                  'conv3_block2_3_bn[0][0]']      \n",
            "                                                                                                  \n",
            " conv3_block2_out (Activation)  (None, 24, 24, 512)  0           ['conv3_block2_add[0][0]']       \n",
            "                                                                                                  \n",
            " conv3_block3_1_conv (Conv2D)   (None, 24, 24, 128)  65664       ['conv3_block2_out[0][0]']       \n",
            "                                                                                                  \n",
            " conv3_block3_1_bn (BatchNormal  (None, 24, 24, 128)  512        ['conv3_block3_1_conv[0][0]']    \n",
            " ization)                                                                                         \n",
            "                                                                                                  \n",
            " conv3_block3_1_relu (Activatio  (None, 24, 24, 128)  0          ['conv3_block3_1_bn[0][0]']      \n",
            " n)                                                                                               \n",
            "                                                                                                  \n",
            " conv3_block3_2_conv (Conv2D)   (None, 24, 24, 128)  147584      ['conv3_block3_1_relu[0][0]']    \n",
            "                                                                                                  \n",
            " conv3_block3_2_bn (BatchNormal  (None, 24, 24, 128)  512        ['conv3_block3_2_conv[0][0]']    \n",
            " ization)                                                                                         \n",
            "                                                                                                  \n",
            " conv3_block3_2_relu (Activatio  (None, 24, 24, 128)  0          ['conv3_block3_2_bn[0][0]']      \n",
            " n)                                                                                               \n",
            "                                                                                                  \n",
            " conv3_block3_3_conv (Conv2D)   (None, 24, 24, 512)  66048       ['conv3_block3_2_relu[0][0]']    \n",
            "                                                                                                  \n",
            " conv3_block3_3_bn (BatchNormal  (None, 24, 24, 512)  2048       ['conv3_block3_3_conv[0][0]']    \n",
            " ization)                                                                                         \n",
            "                                                                                                  \n",
            " conv3_block3_add (Add)         (None, 24, 24, 512)  0           ['conv3_block2_out[0][0]',       \n",
            "                                                                  'conv3_block3_3_bn[0][0]']      \n",
            "                                                                                                  \n",
            " conv3_block3_out (Activation)  (None, 24, 24, 512)  0           ['conv3_block3_add[0][0]']       \n",
            "                                                                                                  \n",
            " conv3_block4_1_conv (Conv2D)   (None, 24, 24, 128)  65664       ['conv3_block3_out[0][0]']       \n",
            "                                                                                                  \n",
            " conv3_block4_1_bn (BatchNormal  (None, 24, 24, 128)  512        ['conv3_block4_1_conv[0][0]']    \n",
            " ization)                                                                                         \n",
            "                                                                                                  \n",
            " conv3_block4_1_relu (Activatio  (None, 24, 24, 128)  0          ['conv3_block4_1_bn[0][0]']      \n",
            " n)                                                                                               \n",
            "                                                                                                  \n",
            " conv3_block4_2_conv (Conv2D)   (None, 24, 24, 128)  147584      ['conv3_block4_1_relu[0][0]']    \n",
            "                                                                                                  \n",
            " conv3_block4_2_bn (BatchNormal  (None, 24, 24, 128)  512        ['conv3_block4_2_conv[0][0]']    \n",
            " ization)                                                                                         \n",
            "                                                                                                  \n",
            " conv3_block4_2_relu (Activatio  (None, 24, 24, 128)  0          ['conv3_block4_2_bn[0][0]']      \n",
            " n)                                                                                               \n",
            "                                                                                                  \n",
            " conv3_block4_3_conv (Conv2D)   (None, 24, 24, 512)  66048       ['conv3_block4_2_relu[0][0]']    \n",
            "                                                                                                  \n",
            " conv3_block4_3_bn (BatchNormal  (None, 24, 24, 512)  2048       ['conv3_block4_3_conv[0][0]']    \n",
            " ization)                                                                                         \n",
            "                                                                                                  \n",
            " conv3_block4_add (Add)         (None, 24, 24, 512)  0           ['conv3_block3_out[0][0]',       \n",
            "                                                                  'conv3_block4_3_bn[0][0]']      \n",
            "                                                                                                  \n",
            " conv3_block4_out (Activation)  (None, 24, 24, 512)  0           ['conv3_block4_add[0][0]']       \n",
            "                                                                                                  \n",
            " conv4_block1_1_conv (Conv2D)   (None, 12, 12, 256)  131328      ['conv3_block4_out[0][0]']       \n",
            "                                                                                                  \n",
            " conv4_block1_1_bn (BatchNormal  (None, 12, 12, 256)  1024       ['conv4_block1_1_conv[0][0]']    \n",
            " ization)                                                                                         \n",
            "                                                                                                  \n",
            " conv4_block1_1_relu (Activatio  (None, 12, 12, 256)  0          ['conv4_block1_1_bn[0][0]']      \n",
            " n)                                                                                               \n",
            "                                                                                                  \n",
            " conv4_block1_2_conv (Conv2D)   (None, 12, 12, 256)  590080      ['conv4_block1_1_relu[0][0]']    \n",
            "                                                                                                  \n",
            " conv4_block1_2_bn (BatchNormal  (None, 12, 12, 256)  1024       ['conv4_block1_2_conv[0][0]']    \n",
            " ization)                                                                                         \n",
            "                                                                                                  \n",
            " conv4_block1_2_relu (Activatio  (None, 12, 12, 256)  0          ['conv4_block1_2_bn[0][0]']      \n",
            " n)                                                                                               \n",
            "                                                                                                  \n",
            " conv4_block1_0_conv (Conv2D)   (None, 12, 12, 1024  525312      ['conv3_block4_out[0][0]']       \n",
            "                                )                                                                 \n",
            "                                                                                                  \n",
            " conv4_block1_3_conv (Conv2D)   (None, 12, 12, 1024  263168      ['conv4_block1_2_relu[0][0]']    \n",
            "                                )                                                                 \n",
            "                                                                                                  \n",
            " conv4_block1_0_bn (BatchNormal  (None, 12, 12, 1024  4096       ['conv4_block1_0_conv[0][0]']    \n",
            " ization)                       )                                                                 \n",
            "                                                                                                  \n",
            " conv4_block1_3_bn (BatchNormal  (None, 12, 12, 1024  4096       ['conv4_block1_3_conv[0][0]']    \n",
            " ization)                       )                                                                 \n",
            "                                                                                                  \n",
            " conv4_block1_add (Add)         (None, 12, 12, 1024  0           ['conv4_block1_0_bn[0][0]',      \n",
            "                                )                                 'conv4_block1_3_bn[0][0]']      \n",
            "                                                                                                  \n",
            " conv4_block1_out (Activation)  (None, 12, 12, 1024  0           ['conv4_block1_add[0][0]']       \n",
            "                                )                                                                 \n",
            "                                                                                                  \n",
            " conv4_block2_1_conv (Conv2D)   (None, 12, 12, 256)  262400      ['conv4_block1_out[0][0]']       \n",
            "                                                                                                  \n",
            " conv4_block2_1_bn (BatchNormal  (None, 12, 12, 256)  1024       ['conv4_block2_1_conv[0][0]']    \n",
            " ization)                                                                                         \n",
            "                                                                                                  \n",
            " conv4_block2_1_relu (Activatio  (None, 12, 12, 256)  0          ['conv4_block2_1_bn[0][0]']      \n",
            " n)                                                                                               \n",
            "                                                                                                  \n",
            " conv4_block2_2_conv (Conv2D)   (None, 12, 12, 256)  590080      ['conv4_block2_1_relu[0][0]']    \n",
            "                                                                                                  \n",
            " conv4_block2_2_bn (BatchNormal  (None, 12, 12, 256)  1024       ['conv4_block2_2_conv[0][0]']    \n",
            " ization)                                                                                         \n",
            "                                                                                                  \n",
            " conv4_block2_2_relu (Activatio  (None, 12, 12, 256)  0          ['conv4_block2_2_bn[0][0]']      \n",
            " n)                                                                                               \n",
            "                                                                                                  \n",
            " conv4_block2_3_conv (Conv2D)   (None, 12, 12, 1024  263168      ['conv4_block2_2_relu[0][0]']    \n",
            "                                )                                                                 \n",
            "                                                                                                  \n",
            " conv4_block2_3_bn (BatchNormal  (None, 12, 12, 1024  4096       ['conv4_block2_3_conv[0][0]']    \n",
            " ization)                       )                                                                 \n",
            "                                                                                                  \n",
            " conv4_block2_add (Add)         (None, 12, 12, 1024  0           ['conv4_block1_out[0][0]',       \n",
            "                                )                                 'conv4_block2_3_bn[0][0]']      \n",
            "                                                                                                  \n",
            " conv4_block2_out (Activation)  (None, 12, 12, 1024  0           ['conv4_block2_add[0][0]']       \n",
            "                                )                                                                 \n",
            "                                                                                                  \n",
            " conv4_block3_1_conv (Conv2D)   (None, 12, 12, 256)  262400      ['conv4_block2_out[0][0]']       \n",
            "                                                                                                  \n",
            " conv4_block3_1_bn (BatchNormal  (None, 12, 12, 256)  1024       ['conv4_block3_1_conv[0][0]']    \n",
            " ization)                                                                                         \n",
            "                                                                                                  \n",
            " conv4_block3_1_relu (Activatio  (None, 12, 12, 256)  0          ['conv4_block3_1_bn[0][0]']      \n",
            " n)                                                                                               \n",
            "                                                                                                  \n",
            " conv4_block3_2_conv (Conv2D)   (None, 12, 12, 256)  590080      ['conv4_block3_1_relu[0][0]']    \n",
            "                                                                                                  \n",
            " conv4_block3_2_bn (BatchNormal  (None, 12, 12, 256)  1024       ['conv4_block3_2_conv[0][0]']    \n",
            " ization)                                                                                         \n",
            "                                                                                                  \n",
            " conv4_block3_2_relu (Activatio  (None, 12, 12, 256)  0          ['conv4_block3_2_bn[0][0]']      \n",
            " n)                                                                                               \n",
            "                                                                                                  \n",
            " conv4_block3_3_conv (Conv2D)   (None, 12, 12, 1024  263168      ['conv4_block3_2_relu[0][0]']    \n",
            "                                )                                                                 \n",
            "                                                                                                  \n",
            " conv4_block3_3_bn (BatchNormal  (None, 12, 12, 1024  4096       ['conv4_block3_3_conv[0][0]']    \n",
            " ization)                       )                                                                 \n",
            "                                                                                                  \n",
            " conv4_block3_add (Add)         (None, 12, 12, 1024  0           ['conv4_block2_out[0][0]',       \n",
            "                                )                                 'conv4_block3_3_bn[0][0]']      \n",
            "                                                                                                  \n",
            " conv4_block3_out (Activation)  (None, 12, 12, 1024  0           ['conv4_block3_add[0][0]']       \n",
            "                                )                                                                 \n",
            "                                                                                                  \n",
            " conv4_block4_1_conv (Conv2D)   (None, 12, 12, 256)  262400      ['conv4_block3_out[0][0]']       \n",
            "                                                                                                  \n",
            " conv4_block4_1_bn (BatchNormal  (None, 12, 12, 256)  1024       ['conv4_block4_1_conv[0][0]']    \n",
            " ization)                                                                                         \n",
            "                                                                                                  \n",
            " conv4_block4_1_relu (Activatio  (None, 12, 12, 256)  0          ['conv4_block4_1_bn[0][0]']      \n",
            " n)                                                                                               \n",
            "                                                                                                  \n",
            " conv4_block4_2_conv (Conv2D)   (None, 12, 12, 256)  590080      ['conv4_block4_1_relu[0][0]']    \n",
            "                                                                                                  \n",
            " conv4_block4_2_bn (BatchNormal  (None, 12, 12, 256)  1024       ['conv4_block4_2_conv[0][0]']    \n",
            " ization)                                                                                         \n",
            "                                                                                                  \n",
            " conv4_block4_2_relu (Activatio  (None, 12, 12, 256)  0          ['conv4_block4_2_bn[0][0]']      \n",
            " n)                                                                                               \n",
            "                                                                                                  \n",
            " conv4_block4_3_conv (Conv2D)   (None, 12, 12, 1024  263168      ['conv4_block4_2_relu[0][0]']    \n",
            "                                )                                                                 \n",
            "                                                                                                  \n",
            " conv4_block4_3_bn (BatchNormal  (None, 12, 12, 1024  4096       ['conv4_block4_3_conv[0][0]']    \n",
            " ization)                       )                                                                 \n",
            "                                                                                                  \n",
            " conv4_block4_add (Add)         (None, 12, 12, 1024  0           ['conv4_block3_out[0][0]',       \n",
            "                                )                                 'conv4_block4_3_bn[0][0]']      \n",
            "                                                                                                  \n",
            " conv4_block4_out (Activation)  (None, 12, 12, 1024  0           ['conv4_block4_add[0][0]']       \n",
            "                                )                                                                 \n",
            "                                                                                                  \n",
            " conv4_block5_1_conv (Conv2D)   (None, 12, 12, 256)  262400      ['conv4_block4_out[0][0]']       \n",
            "                                                                                                  \n",
            " conv4_block5_1_bn (BatchNormal  (None, 12, 12, 256)  1024       ['conv4_block5_1_conv[0][0]']    \n",
            " ization)                                                                                         \n",
            "                                                                                                  \n",
            " conv4_block5_1_relu (Activatio  (None, 12, 12, 256)  0          ['conv4_block5_1_bn[0][0]']      \n",
            " n)                                                                                               \n",
            "                                                                                                  \n",
            " conv4_block5_2_conv (Conv2D)   (None, 12, 12, 256)  590080      ['conv4_block5_1_relu[0][0]']    \n",
            "                                                                                                  \n",
            " conv4_block5_2_bn (BatchNormal  (None, 12, 12, 256)  1024       ['conv4_block5_2_conv[0][0]']    \n",
            " ization)                                                                                         \n",
            "                                                                                                  \n",
            " conv4_block5_2_relu (Activatio  (None, 12, 12, 256)  0          ['conv4_block5_2_bn[0][0]']      \n",
            " n)                                                                                               \n",
            "                                                                                                  \n",
            " conv4_block5_3_conv (Conv2D)   (None, 12, 12, 1024  263168      ['conv4_block5_2_relu[0][0]']    \n",
            "                                )                                                                 \n",
            "                                                                                                  \n",
            " conv4_block5_3_bn (BatchNormal  (None, 12, 12, 1024  4096       ['conv4_block5_3_conv[0][0]']    \n",
            " ization)                       )                                                                 \n",
            "                                                                                                  \n",
            " conv4_block5_add (Add)         (None, 12, 12, 1024  0           ['conv4_block4_out[0][0]',       \n",
            "                                )                                 'conv4_block5_3_bn[0][0]']      \n",
            "                                                                                                  \n",
            " conv4_block5_out (Activation)  (None, 12, 12, 1024  0           ['conv4_block5_add[0][0]']       \n",
            "                                )                                                                 \n",
            "                                                                                                  \n",
            " conv4_block6_1_conv (Conv2D)   (None, 12, 12, 256)  262400      ['conv4_block5_out[0][0]']       \n",
            "                                                                                                  \n",
            " conv4_block6_1_bn (BatchNormal  (None, 12, 12, 256)  1024       ['conv4_block6_1_conv[0][0]']    \n",
            " ization)                                                                                         \n",
            "                                                                                                  \n",
            " conv4_block6_1_relu (Activatio  (None, 12, 12, 256)  0          ['conv4_block6_1_bn[0][0]']      \n",
            " n)                                                                                               \n",
            "                                                                                                  \n",
            " conv4_block6_2_conv (Conv2D)   (None, 12, 12, 256)  590080      ['conv4_block6_1_relu[0][0]']    \n",
            "                                                                                                  \n",
            " conv4_block6_2_bn (BatchNormal  (None, 12, 12, 256)  1024       ['conv4_block6_2_conv[0][0]']    \n",
            " ization)                                                                                         \n",
            "                                                                                                  \n",
            " conv4_block6_2_relu (Activatio  (None, 12, 12, 256)  0          ['conv4_block6_2_bn[0][0]']      \n",
            " n)                                                                                               \n",
            "                                                                                                  \n",
            " conv4_block6_3_conv (Conv2D)   (None, 12, 12, 1024  263168      ['conv4_block6_2_relu[0][0]']    \n",
            "                                )                                                                 \n",
            "                                                                                                  \n",
            " conv4_block6_3_bn (BatchNormal  (None, 12, 12, 1024  4096       ['conv4_block6_3_conv[0][0]']    \n",
            " ization)                       )                                                                 \n",
            "                                                                                                  \n",
            " conv4_block6_add (Add)         (None, 12, 12, 1024  0           ['conv4_block5_out[0][0]',       \n",
            "                                )                                 'conv4_block6_3_bn[0][0]']      \n",
            "                                                                                                  \n",
            " conv4_block6_out (Activation)  (None, 12, 12, 1024  0           ['conv4_block6_add[0][0]']       \n",
            "                                )                                                                 \n",
            "                                                                                                  \n",
            " conv5_block1_1_conv (Conv2D)   (None, 6, 6, 512)    524800      ['conv4_block6_out[0][0]']       \n",
            "                                                                                                  \n",
            " conv5_block1_1_bn (BatchNormal  (None, 6, 6, 512)   2048        ['conv5_block1_1_conv[0][0]']    \n",
            " ization)                                                                                         \n",
            "                                                                                                  \n",
            " conv5_block1_1_relu (Activatio  (None, 6, 6, 512)   0           ['conv5_block1_1_bn[0][0]']      \n",
            " n)                                                                                               \n",
            "                                                                                                  \n",
            " conv5_block1_2_conv (Conv2D)   (None, 6, 6, 512)    2359808     ['conv5_block1_1_relu[0][0]']    \n",
            "                                                                                                  \n",
            " conv5_block1_2_bn (BatchNormal  (None, 6, 6, 512)   2048        ['conv5_block1_2_conv[0][0]']    \n",
            " ization)                                                                                         \n",
            "                                                                                                  \n",
            " conv5_block1_2_relu (Activatio  (None, 6, 6, 512)   0           ['conv5_block1_2_bn[0][0]']      \n",
            " n)                                                                                               \n",
            "                                                                                                  \n",
            " conv5_block1_0_conv (Conv2D)   (None, 6, 6, 2048)   2099200     ['conv4_block6_out[0][0]']       \n",
            "                                                                                                  \n",
            " conv5_block1_3_conv (Conv2D)   (None, 6, 6, 2048)   1050624     ['conv5_block1_2_relu[0][0]']    \n",
            "                                                                                                  \n",
            " conv5_block1_0_bn (BatchNormal  (None, 6, 6, 2048)  8192        ['conv5_block1_0_conv[0][0]']    \n",
            " ization)                                                                                         \n",
            "                                                                                                  \n",
            " conv5_block1_3_bn (BatchNormal  (None, 6, 6, 2048)  8192        ['conv5_block1_3_conv[0][0]']    \n",
            " ization)                                                                                         \n",
            "                                                                                                  \n",
            " conv5_block1_add (Add)         (None, 6, 6, 2048)   0           ['conv5_block1_0_bn[0][0]',      \n",
            "                                                                  'conv5_block1_3_bn[0][0]']      \n",
            "                                                                                                  \n",
            " conv5_block1_out (Activation)  (None, 6, 6, 2048)   0           ['conv5_block1_add[0][0]']       \n",
            "                                                                                                  \n",
            " conv5_block2_1_conv (Conv2D)   (None, 6, 6, 512)    1049088     ['conv5_block1_out[0][0]']       \n",
            "                                                                                                  \n",
            " conv5_block2_1_bn (BatchNormal  (None, 6, 6, 512)   2048        ['conv5_block2_1_conv[0][0]']    \n",
            " ization)                                                                                         \n",
            "                                                                                                  \n",
            " conv5_block2_1_relu (Activatio  (None, 6, 6, 512)   0           ['conv5_block2_1_bn[0][0]']      \n",
            " n)                                                                                               \n",
            "                                                                                                  \n",
            " conv5_block2_2_conv (Conv2D)   (None, 6, 6, 512)    2359808     ['conv5_block2_1_relu[0][0]']    \n",
            "                                                                                                  \n",
            " conv5_block2_2_bn (BatchNormal  (None, 6, 6, 512)   2048        ['conv5_block2_2_conv[0][0]']    \n",
            " ization)                                                                                         \n",
            "                                                                                                  \n",
            " conv5_block2_2_relu (Activatio  (None, 6, 6, 512)   0           ['conv5_block2_2_bn[0][0]']      \n",
            " n)                                                                                               \n",
            "                                                                                                  \n",
            " conv5_block2_3_conv (Conv2D)   (None, 6, 6, 2048)   1050624     ['conv5_block2_2_relu[0][0]']    \n",
            "                                                                                                  \n",
            " conv5_block2_3_bn (BatchNormal  (None, 6, 6, 2048)  8192        ['conv5_block2_3_conv[0][0]']    \n",
            " ization)                                                                                         \n",
            "                                                                                                  \n",
            " conv5_block2_add (Add)         (None, 6, 6, 2048)   0           ['conv5_block1_out[0][0]',       \n",
            "                                                                  'conv5_block2_3_bn[0][0]']      \n",
            "                                                                                                  \n",
            " conv5_block2_out (Activation)  (None, 6, 6, 2048)   0           ['conv5_block2_add[0][0]']       \n",
            "                                                                                                  \n",
            " conv5_block3_1_conv (Conv2D)   (None, 6, 6, 512)    1049088     ['conv5_block2_out[0][0]']       \n",
            "                                                                                                  \n",
            " conv5_block3_1_bn (BatchNormal  (None, 6, 6, 512)   2048        ['conv5_block3_1_conv[0][0]']    \n",
            " ization)                                                                                         \n",
            "                                                                                                  \n",
            " conv5_block3_1_relu (Activatio  (None, 6, 6, 512)   0           ['conv5_block3_1_bn[0][0]']      \n",
            " n)                                                                                               \n",
            "                                                                                                  \n",
            " conv5_block3_2_conv (Conv2D)   (None, 6, 6, 512)    2359808     ['conv5_block3_1_relu[0][0]']    \n",
            "                                                                                                  \n",
            " conv5_block3_2_bn (BatchNormal  (None, 6, 6, 512)   2048        ['conv5_block3_2_conv[0][0]']    \n",
            " ization)                                                                                         \n",
            "                                                                                                  \n",
            " conv5_block3_2_relu (Activatio  (None, 6, 6, 512)   0           ['conv5_block3_2_bn[0][0]']      \n",
            " n)                                                                                               \n",
            "                                                                                                  \n",
            " conv5_block3_3_conv (Conv2D)   (None, 6, 6, 2048)   1050624     ['conv5_block3_2_relu[0][0]']    \n",
            "                                                                                                  \n",
            " conv5_block3_3_bn (BatchNormal  (None, 6, 6, 2048)  8192        ['conv5_block3_3_conv[0][0]']    \n",
            " ization)                                                                                         \n",
            "                                                                                                  \n",
            " conv5_block3_add (Add)         (None, 6, 6, 2048)   0           ['conv5_block2_out[0][0]',       \n",
            "                                                                  'conv5_block3_3_bn[0][0]']      \n",
            "                                                                                                  \n",
            " conv5_block3_out (Activation)  (None, 6, 6, 2048)   0           ['conv5_block3_add[0][0]']       \n",
            "                                                                                                  \n",
            " flatten_1 (Flatten)            (None, 73728)        0           ['conv5_block3_out[0][0]']       \n",
            "                                                                                                  \n",
            " dense_2 (Dense)                (None, 256)          18874624    ['flatten_1[0][0]']              \n",
            "                                                                                                  \n",
            " dropout_1 (Dropout)            (None, 256)          0           ['dense_2[0][0]']                \n",
            "                                                                                                  \n",
            " dense_3 (Dense)                (None, 3)            771         ['dropout_1[0][0]']              \n",
            "                                                                                                  \n",
            "==================================================================================================\n",
            "Total params: 42,463,107\n",
            "Trainable params: 18,875,395\n",
            "Non-trainable params: 23,587,712\n",
            "__________________________________________________________________________________________________\n"
          ]
        }
      ]
    },
    {
      "cell_type": "code",
      "source": [
        "from aimodelshare.aimsonnx import model_to_onnx\n",
        "\n",
        "onnx_model = model_to_onnx(model, framework='keras',\n",
        "                          transfer_learning=False,\n",
        "                          deep_learning=True)\n",
        "\n",
        "with open(\"model4.onnx\", \"wb\") as f:\n",
        "    f.write(onnx_model.SerializeToString())"
      ],
      "metadata": {
        "id": "0badtK3LhjLN"
      },
      "execution_count": null,
      "outputs": []
    },
    {
      "cell_type": "code",
      "source": [
        "apiurl='https://bb4mkgq8sb.execute-api.us-east-2.amazonaws.com/prod/m'\n",
        "\n",
        "import aimodelshare as ai\n",
        "experiment= ai.Experiment(apiurl)\n",
        "\n",
        "from aimodelshare.aws import set_credentials\n",
        "set_credentials(apiurl=apiurl)"
      ],
      "metadata": {
        "colab": {
          "base_uri": "https://localhost:8080/"
        },
        "id": "nWM4sClQhjOm",
        "outputId": "a202dc93-c6a6-4233-91bf-ceab7f5e46c8"
      },
      "execution_count": null,
      "outputs": [
        {
          "output_type": "stream",
          "name": "stdout",
          "text": [
            "AI Modelshare Username:··········\n",
            "AI Modelshare Password:··········\n",
            "AI Model Share login credentials set successfully.\n"
          ]
        }
      ]
    },
    {
      "cell_type": "code",
      "source": [
        "# Submit Model\n",
        "\n",
        "#-- Generate predicted y values \n",
        "prediction_column_index=model.predict(X_test).argmax(axis=1)\n",
        "\n",
        "# extract correct prediction labels \n",
        "prediction_labels = [y_train.columns[i] for i in prediction_column_index]\n",
        "\n",
        "# Submit Model 2 to Competition Leaderboard\n",
        "experiment.submit_model(model_filepath = \"model4.onnx\",\n",
        "                                 prediction_submission=prediction_labels,\n",
        "                                 preprocessor_filepath=\"preprocessor.zip\")"
      ],
      "metadata": {
        "id": "9kbsf2bKhjQ-"
      },
      "execution_count": null,
      "outputs": []
    },
    {
      "cell_type": "markdown",
      "source": [
        "### Post Discussion model 2: Tranfer learning using VGG16\n",
        "\n",
        "\n",
        "\n"
      ],
      "metadata": {
        "id": "Ohw1qsKwioXJ"
      }
    },
    {
      "cell_type": "code",
      "source": [
        "#If you run out of Colab memory restart runtime, reload data and try again\n",
        "import pickle\n",
        "  \n",
        "# Open the file in binary mode\n",
        "with open('X_train.pkl', 'rb') as file:\n",
        "    # Call load method to deserialze\n",
        "    X_train = pickle.load(file)\n",
        "\n",
        "# Open the file in binary mode\n",
        "with open('X_test.pkl', 'rb') as file:\n",
        "    # Call load method to deserialze\n",
        "    X_test = pickle.load(file)    \n",
        "\n",
        "# Open the file in binary mode\n",
        "with open('y_train.pkl', 'rb') as file:\n",
        "    # Call load method to deserialze\n",
        "    y_train = pickle.load(file)\n",
        "\n",
        "X_train.shape, y_train.shape"
      ],
      "metadata": {
        "colab": {
          "base_uri": "https://localhost:8080/"
        },
        "id": "hdlQESNDhjTE",
        "outputId": "6cae5a1c-33ee-4c1c-880c-c377097b7fab"
      },
      "execution_count": null,
      "outputs": [
        {
          "output_type": "execute_result",
          "data": {
            "text/plain": [
              "((2741, 192, 192, 3), (2741, 3))"
            ]
          },
          "metadata": {},
          "execution_count": 1
        }
      ]
    },
    {
      "cell_type": "code",
      "source": [
        "from tensorflow.keras.applications.vgg16 import VGG16\n",
        "from tensorflow.keras.models import Sequential\n",
        "from tensorflow.keras.layers import Dense, Flatten, Dropout, BatchNormalization\n",
        "\n",
        "# load the pre-trained VGG16 model, excluding the top layers\n",
        "base_model = VGG16(weights='imagenet', include_top=False, input_shape=(192, 192, 3))\n",
        "\n",
        "# set the layers of the base model to non-trainable\n",
        "for layer in base_model.layers:\n",
        "    layer.trainable = False\n",
        "\n",
        "# create a new model on top of the imported model\n",
        "model = Sequential()\n",
        "model.add(base_model)\n",
        "model.add(Flatten())\n",
        "model.add(Dense(256, activation='relu'))\n",
        "model.add(BatchNormalization())\n",
        "model.add(Dropout(0.5))\n",
        "model.add(Dense(256, activation='relu'))\n",
        "model.add(BatchNormalization())\n",
        "model.add(Dropout(0.5))\n",
        "model.add(Dense(3, activation='softmax'))\n",
        "\n",
        "model.compile(optimizer='adam', loss='categorical_crossentropy', metrics=['accuracy'])\n",
        "\n",
        "# Fitting the model on the training data\n",
        "model.fit(X_train, y_train, epochs = 5, verbose=1,validation_split=.2)"
      ],
      "metadata": {
        "colab": {
          "base_uri": "https://localhost:8080/"
        },
        "id": "LYkKlyrzhjU6",
        "outputId": "111ca0b8-bfe3-4729-9b4d-b02aa9de25e1"
      },
      "execution_count": null,
      "outputs": [
        {
          "output_type": "stream",
          "name": "stdout",
          "text": [
            "Epoch 1/5\n",
            "69/69 [==============================] - 23s 183ms/step - loss: 0.4886 - accuracy: 0.8353 - val_loss: 1.2594 - val_accuracy: 0.6211\n",
            "Epoch 2/5\n",
            "69/69 [==============================] - 9s 137ms/step - loss: 0.2124 - accuracy: 0.9252 - val_loss: 0.3441 - val_accuracy: 0.8925\n",
            "Epoch 3/5\n",
            "69/69 [==============================] - 10s 141ms/step - loss: 0.2003 - accuracy: 0.9320 - val_loss: 0.1463 - val_accuracy: 0.9417\n",
            "Epoch 4/5\n",
            "69/69 [==============================] - 9s 138ms/step - loss: 0.1239 - accuracy: 0.9544 - val_loss: 0.2097 - val_accuracy: 0.9344\n",
            "Epoch 5/5\n",
            "69/69 [==============================] - 10s 151ms/step - loss: 0.0976 - accuracy: 0.9662 - val_loss: 0.2479 - val_accuracy: 0.9308\n"
          ]
        },
        {
          "output_type": "execute_result",
          "data": {
            "text/plain": [
              "<keras.callbacks.History at 0x7f02f07a30a0>"
            ]
          },
          "metadata": {},
          "execution_count": 2
        }
      ]
    },
    {
      "cell_type": "code",
      "source": [
        "# save the model\n",
        "model.save(\"model5\", save_format=\"h5\")"
      ],
      "metadata": {
        "id": "1xbvuZkehjXO"
      },
      "execution_count": null,
      "outputs": []
    },
    {
      "cell_type": "code",
      "source": [
        "import tensorflow as tf\n",
        "model = tf.keras.models.load_model('model5',compile=False)\n",
        "model.compile(\n",
        "    optimizer=\"adam\", # to use callback set lr arg such as Adam(lr=0.001) instead\n",
        "    loss= 'categorical_crossentropy',\n",
        "    metrics=['accuracy'])\n",
        "model.summary()"
      ],
      "metadata": {
        "colab": {
          "base_uri": "https://localhost:8080/"
        },
        "id": "kQS_Ygxvjne1",
        "outputId": "834cb7e2-8809-4745-c1e8-c44847090812"
      },
      "execution_count": null,
      "outputs": [
        {
          "output_type": "stream",
          "name": "stdout",
          "text": [
            "Model: \"sequential\"\n",
            "_________________________________________________________________\n",
            " Layer (type)                Output Shape              Param #   \n",
            "=================================================================\n",
            " vgg16 (Functional)          (None, 6, 6, 512)         14714688  \n",
            "                                                                 \n",
            " flatten (Flatten)           (None, 18432)             0         \n",
            "                                                                 \n",
            " dense (Dense)               (None, 256)               4718848   \n",
            "                                                                 \n",
            " batch_normalization (BatchN  (None, 256)              1024      \n",
            " ormalization)                                                   \n",
            "                                                                 \n",
            " dropout (Dropout)           (None, 256)               0         \n",
            "                                                                 \n",
            " dense_1 (Dense)             (None, 256)               65792     \n",
            "                                                                 \n",
            " batch_normalization_1 (Batc  (None, 256)              1024      \n",
            " hNormalization)                                                 \n",
            "                                                                 \n",
            " dropout_1 (Dropout)         (None, 256)               0         \n",
            "                                                                 \n",
            " dense_2 (Dense)             (None, 3)                 771       \n",
            "                                                                 \n",
            "=================================================================\n",
            "Total params: 19,502,147\n",
            "Trainable params: 4,786,435\n",
            "Non-trainable params: 14,715,712\n",
            "_________________________________________________________________\n"
          ]
        }
      ]
    },
    {
      "cell_type": "code",
      "source": [
        "from aimodelshare.aimsonnx import model_to_onnx\n",
        "\n",
        "onnx_model = model_to_onnx(model, framework='keras',\n",
        "                          transfer_learning=False,\n",
        "                          deep_learning=True)\n",
        "\n",
        "with open(\"model5.onnx\", \"wb\") as f:\n",
        "    f.write(onnx_model.SerializeToString())"
      ],
      "metadata": {
        "id": "davYN9Q_jnh_"
      },
      "execution_count": null,
      "outputs": []
    },
    {
      "cell_type": "code",
      "source": [
        "apiurl='https://bb4mkgq8sb.execute-api.us-east-2.amazonaws.com/prod/m'\n",
        "\n",
        "import aimodelshare as ai\n",
        "experiment= ai.Experiment(apiurl)\n",
        "\n",
        "from aimodelshare.aws import set_credentials\n",
        "set_credentials(apiurl=apiurl)"
      ],
      "metadata": {
        "colab": {
          "base_uri": "https://localhost:8080/"
        },
        "id": "GguA3DB5jnlG",
        "outputId": "2a3f1f3c-a29e-45b0-b414-c53cfe7bf808"
      },
      "execution_count": null,
      "outputs": [
        {
          "output_type": "stream",
          "name": "stdout",
          "text": [
            "AI Modelshare Username:··········\n",
            "AI Modelshare Password:··········\n",
            "AI Model Share login credentials set successfully.\n"
          ]
        }
      ]
    },
    {
      "cell_type": "code",
      "source": [
        "# Submit Model\n",
        "\n",
        "#-- Generate predicted y values \n",
        "prediction_column_index=model.predict(X_test).argmax(axis=1)\n",
        "\n",
        "# extract correct prediction labels \n",
        "prediction_labels = [y_train.columns[i] for i in prediction_column_index]\n",
        "\n",
        "# Submit Model 2 to Competition Leaderboard\n",
        "experiment.submit_model(model_filepath = \"model5.onnx\",\n",
        "                                 prediction_submission=prediction_labels,\n",
        "                                 preprocessor_filepath=\"preprocessor.zip\")"
      ],
      "metadata": {
        "colab": {
          "base_uri": "https://localhost:8080/"
        },
        "id": "vkYbrbjuj6ic",
        "outputId": "5729e817-d665-42a4-84c3-e7dd63301884"
      },
      "execution_count": null,
      "outputs": [
        {
          "output_type": "stream",
          "name": "stdout",
          "text": [
            "41/41 [==============================] - 6s 140ms/step\n"
          ]
        },
        {
          "output_type": "stream",
          "name": "stderr",
          "text": [
            "/usr/local/lib/python3.9/dist-packages/aimodelshare/model.py:302: FutureWarning: The frame.append method is deprecated and will be removed from pandas in a future version. Use pandas.concat instead.\n",
            "  leaderboard = leaderboard.append(metadata, ignore_index=True, sort=False)\n",
            "/usr/local/lib/python3.9/dist-packages/aimodelshare/model.py:304: PerformanceWarning: DataFrame is highly fragmented.  This is usually the result of calling `frame.insert` many times, which has poor performance.  Consider joining all columns at once using pd.concat(axis=1) instead. To get a de-fragmented frame, use `newframe = frame.copy()`\n",
            "  leaderboard['username']=leaderboard.pop(\"username\")\n",
            "/usr/local/lib/python3.9/dist-packages/aimodelshare/model.py:305: PerformanceWarning: DataFrame is highly fragmented.  This is usually the result of calling `frame.insert` many times, which has poor performance.  Consider joining all columns at once using pd.concat(axis=1) instead. To get a de-fragmented frame, use `newframe = frame.copy()`\n",
            "  leaderboard['timestamp'] = leaderboard.pop(\"timestamp\")\n",
            "/usr/local/lib/python3.9/dist-packages/aimodelshare/model.py:306: PerformanceWarning: DataFrame is highly fragmented.  This is usually the result of calling `frame.insert` many times, which has poor performance.  Consider joining all columns at once using pd.concat(axis=1) instead. To get a de-fragmented frame, use `newframe = frame.copy()`\n",
            "  leaderboard['version'] = leaderboard.pop(\"version\")\n",
            "/usr/local/lib/python3.9/dist-packages/aimodelshare/model.py:302: FutureWarning: The frame.append method is deprecated and will be removed from pandas in a future version. Use pandas.concat instead.\n",
            "  leaderboard = leaderboard.append(metadata, ignore_index=True, sort=False)\n",
            "/usr/local/lib/python3.9/dist-packages/aimodelshare/model.py:304: PerformanceWarning: DataFrame is highly fragmented.  This is usually the result of calling `frame.insert` many times, which has poor performance.  Consider joining all columns at once using pd.concat(axis=1) instead. To get a de-fragmented frame, use `newframe = frame.copy()`\n",
            "  leaderboard['username']=leaderboard.pop(\"username\")\n",
            "/usr/local/lib/python3.9/dist-packages/aimodelshare/model.py:305: PerformanceWarning: DataFrame is highly fragmented.  This is usually the result of calling `frame.insert` many times, which has poor performance.  Consider joining all columns at once using pd.concat(axis=1) instead. To get a de-fragmented frame, use `newframe = frame.copy()`\n",
            "  leaderboard['timestamp'] = leaderboard.pop(\"timestamp\")\n",
            "/usr/local/lib/python3.9/dist-packages/aimodelshare/model.py:306: PerformanceWarning: DataFrame is highly fragmented.  This is usually the result of calling `frame.insert` many times, which has poor performance.  Consider joining all columns at once using pd.concat(axis=1) instead. To get a de-fragmented frame, use `newframe = frame.copy()`\n",
            "  leaderboard['version'] = leaderboard.pop(\"version\")\n"
          ]
        },
        {
          "output_type": "stream",
          "name": "stdout",
          "text": [
            "Insert search tags to help users find your model (optional): \n",
            "Provide any useful notes about your model (optional): \n",
            "\n",
            "Your model has been submitted as model version 415\n",
            "\n",
            "To submit code used to create this model or to view current leaderboard navigate to Model Playground: \n",
            "\n",
            " https://www.modelshare.org/detail/model:3340\n"
          ]
        }
      ]
    },
    {
      "cell_type": "markdown",
      "source": [
        "### Post Discussion model 3: Tranfer learning using InceptionV3 with BatchNormalization"
      ],
      "metadata": {
        "id": "HFNBSlRlkFWk"
      }
    },
    {
      "cell_type": "code",
      "source": [
        "#If you run out of Colab memory restart runtime, reload data and try again\n",
        "import pickle\n",
        "  \n",
        "# Open the file in binary mode\n",
        "with open('X_train.pkl', 'rb') as file:\n",
        "    # Call load method to deserialze\n",
        "    X_train = pickle.load(file)\n",
        "\n",
        "# Open the file in binary mode\n",
        "with open('X_test.pkl', 'rb') as file:\n",
        "    # Call load method to deserialze\n",
        "    X_test = pickle.load(file)    \n",
        "\n",
        "# Open the file in binary mode\n",
        "with open('y_train.pkl', 'rb') as file:\n",
        "    # Call load method to deserialze\n",
        "    y_train = pickle.load(file)\n",
        "\n",
        "X_train.shape, y_train.shape"
      ],
      "metadata": {
        "colab": {
          "base_uri": "https://localhost:8080/"
        },
        "id": "ant4CxKij6sv",
        "outputId": "373a3784-0a0e-442b-a427-02bd0bb88c0b"
      },
      "execution_count": null,
      "outputs": [
        {
          "output_type": "execute_result",
          "data": {
            "text/plain": [
              "((2741, 192, 192, 3), (2741, 3))"
            ]
          },
          "metadata": {},
          "execution_count": 1
        }
      ]
    },
    {
      "cell_type": "code",
      "source": [
        "from tensorflow.keras.applications import InceptionV3\n",
        "from tensorflow.keras.layers import Dense, GlobalAveragePooling2D, Dropout, BatchNormalization\n",
        "from tensorflow.keras.models import Model\n",
        "\n",
        "base_model = InceptionV3(weights='imagenet', include_top=False, input_shape=(192, 192, 3))\n",
        "\n",
        "for layer in base_model.layers:\n",
        "    layer.trainable = False\n",
        "\n",
        "x = base_model.output\n",
        "x = GlobalAveragePooling2D()(x)\n",
        "x = Dense(512, activation='relu')(x)\n",
        "x = BatchNormalization()(x)\n",
        "x = Dropout(0.3)(x)\n",
        "x = base_model.output\n",
        "x = GlobalAveragePooling2D()(x)\n",
        "x = Dense(512, activation='relu')(x)\n",
        "x = BatchNormalization()(x)\n",
        "x = Dropout(0.3)(x)\n",
        "predictions = Dense(3, activation='softmax')(x)\n",
        "\n",
        "model = Model(inputs=base_model.input, outputs=predictions)\n",
        "\n",
        "model.compile(optimizer='adam', loss='categorical_crossentropy', metrics=['accuracy'])\n",
        "\n",
        "# Fitting the model on the training data\n",
        "model.fit(X_train, y_train, epochs = 5, verbose=1,validation_split=.2)\n",
        "\n"
      ],
      "metadata": {
        "colab": {
          "base_uri": "https://localhost:8080/"
        },
        "id": "TeN2q5NXjnnp",
        "outputId": "4f240764-496e-4b9f-97f7-015c808b5680"
      },
      "execution_count": null,
      "outputs": [
        {
          "output_type": "stream",
          "name": "stdout",
          "text": [
            "Epoch 1/5\n",
            "69/69 [==============================] - 16s 136ms/step - loss: 0.5656 - accuracy: 0.7933 - val_loss: 0.3857 - val_accuracy: 0.8306\n",
            "Epoch 2/5\n",
            "69/69 [==============================] - 5s 74ms/step - loss: 0.3227 - accuracy: 0.8654 - val_loss: 0.4315 - val_accuracy: 0.8452\n",
            "Epoch 3/5\n",
            "69/69 [==============================] - 5s 69ms/step - loss: 0.3164 - accuracy: 0.8636 - val_loss: 0.4962 - val_accuracy: 0.8306\n",
            "Epoch 4/5\n",
            "69/69 [==============================] - 5s 74ms/step - loss: 0.2899 - accuracy: 0.8791 - val_loss: 0.3747 - val_accuracy: 0.8616\n",
            "Epoch 5/5\n",
            "69/69 [==============================] - 5s 74ms/step - loss: 0.2395 - accuracy: 0.8983 - val_loss: 0.5884 - val_accuracy: 0.8015\n"
          ]
        },
        {
          "output_type": "execute_result",
          "data": {
            "text/plain": [
              "<keras.callbacks.History at 0x7f8acf7ce850>"
            ]
          },
          "metadata": {},
          "execution_count": 8
        }
      ]
    },
    {
      "cell_type": "code",
      "source": [
        "# save the model\n",
        "model.save(\"model6\", save_format=\"h5\")"
      ],
      "metadata": {
        "id": "9W_o4up8jnqI"
      },
      "execution_count": null,
      "outputs": []
    },
    {
      "cell_type": "code",
      "source": [
        "import tensorflow as tf\n",
        "model = tf.keras.models.load_model('model6',compile=False)\n",
        "model.compile(\n",
        "    optimizer=\"adam\", # to use callback set lr arg such as Adam(lr=0.001) instead\n",
        "    loss= 'categorical_crossentropy',\n",
        "    metrics=['accuracy'])\n",
        "model.summary()"
      ],
      "metadata": {
        "colab": {
          "base_uri": "https://localhost:8080/"
        },
        "id": "g2yj_WyrmxgA",
        "outputId": "ceb8857a-a216-4f7d-b8e6-17e2934cf796"
      },
      "execution_count": null,
      "outputs": [
        {
          "output_type": "stream",
          "name": "stdout",
          "text": [
            "Model: \"model_1\"\n",
            "__________________________________________________________________________________________________\n",
            " Layer (type)                   Output Shape         Param #     Connected to                     \n",
            "==================================================================================================\n",
            " input_7 (InputLayer)           [(None, 192, 192, 3  0           []                               \n",
            "                                )]                                                                \n",
            "                                                                                                  \n",
            " conv2d_564 (Conv2D)            (None, 95, 95, 32)   864         ['input_7[0][0]']                \n",
            "                                                                                                  \n",
            " batch_normalization_566 (Batch  (None, 95, 95, 32)  96          ['conv2d_564[0][0]']             \n",
            " Normalization)                                                                                   \n",
            "                                                                                                  \n",
            " activation_564 (Activation)    (None, 95, 95, 32)   0           ['batch_normalization_566[0][0]']\n",
            "                                                                                                  \n",
            " conv2d_565 (Conv2D)            (None, 93, 93, 32)   9216        ['activation_564[0][0]']         \n",
            "                                                                                                  \n",
            " batch_normalization_567 (Batch  (None, 93, 93, 32)  96          ['conv2d_565[0][0]']             \n",
            " Normalization)                                                                                   \n",
            "                                                                                                  \n",
            " activation_565 (Activation)    (None, 93, 93, 32)   0           ['batch_normalization_567[0][0]']\n",
            "                                                                                                  \n",
            " conv2d_566 (Conv2D)            (None, 93, 93, 64)   18432       ['activation_565[0][0]']         \n",
            "                                                                                                  \n",
            " batch_normalization_568 (Batch  (None, 93, 93, 64)  192         ['conv2d_566[0][0]']             \n",
            " Normalization)                                                                                   \n",
            "                                                                                                  \n",
            " activation_566 (Activation)    (None, 93, 93, 64)   0           ['batch_normalization_568[0][0]']\n",
            "                                                                                                  \n",
            " max_pooling2d_24 (MaxPooling2D  (None, 46, 46, 64)  0           ['activation_566[0][0]']         \n",
            " )                                                                                                \n",
            "                                                                                                  \n",
            " conv2d_567 (Conv2D)            (None, 46, 46, 80)   5120        ['max_pooling2d_24[0][0]']       \n",
            "                                                                                                  \n",
            " batch_normalization_569 (Batch  (None, 46, 46, 80)  240         ['conv2d_567[0][0]']             \n",
            " Normalization)                                                                                   \n",
            "                                                                                                  \n",
            " activation_567 (Activation)    (None, 46, 46, 80)   0           ['batch_normalization_569[0][0]']\n",
            "                                                                                                  \n",
            " conv2d_568 (Conv2D)            (None, 44, 44, 192)  138240      ['activation_567[0][0]']         \n",
            "                                                                                                  \n",
            " batch_normalization_570 (Batch  (None, 44, 44, 192)  576        ['conv2d_568[0][0]']             \n",
            " Normalization)                                                                                   \n",
            "                                                                                                  \n",
            " activation_568 (Activation)    (None, 44, 44, 192)  0           ['batch_normalization_570[0][0]']\n",
            "                                                                                                  \n",
            " max_pooling2d_25 (MaxPooling2D  (None, 21, 21, 192)  0          ['activation_568[0][0]']         \n",
            " )                                                                                                \n",
            "                                                                                                  \n",
            " conv2d_572 (Conv2D)            (None, 21, 21, 64)   12288       ['max_pooling2d_25[0][0]']       \n",
            "                                                                                                  \n",
            " batch_normalization_574 (Batch  (None, 21, 21, 64)  192         ['conv2d_572[0][0]']             \n",
            " Normalization)                                                                                   \n",
            "                                                                                                  \n",
            " activation_572 (Activation)    (None, 21, 21, 64)   0           ['batch_normalization_574[0][0]']\n",
            "                                                                                                  \n",
            " conv2d_570 (Conv2D)            (None, 21, 21, 48)   9216        ['max_pooling2d_25[0][0]']       \n",
            "                                                                                                  \n",
            " conv2d_573 (Conv2D)            (None, 21, 21, 96)   55296       ['activation_572[0][0]']         \n",
            "                                                                                                  \n",
            " batch_normalization_572 (Batch  (None, 21, 21, 48)  144         ['conv2d_570[0][0]']             \n",
            " Normalization)                                                                                   \n",
            "                                                                                                  \n",
            " batch_normalization_575 (Batch  (None, 21, 21, 96)  288         ['conv2d_573[0][0]']             \n",
            " Normalization)                                                                                   \n",
            "                                                                                                  \n",
            " activation_570 (Activation)    (None, 21, 21, 48)   0           ['batch_normalization_572[0][0]']\n",
            "                                                                                                  \n",
            " activation_573 (Activation)    (None, 21, 21, 96)   0           ['batch_normalization_575[0][0]']\n",
            "                                                                                                  \n",
            " average_pooling2d_54 (AverageP  (None, 21, 21, 192)  0          ['max_pooling2d_25[0][0]']       \n",
            " ooling2D)                                                                                        \n",
            "                                                                                                  \n",
            " conv2d_569 (Conv2D)            (None, 21, 21, 64)   12288       ['max_pooling2d_25[0][0]']       \n",
            "                                                                                                  \n",
            " conv2d_571 (Conv2D)            (None, 21, 21, 64)   76800       ['activation_570[0][0]']         \n",
            "                                                                                                  \n",
            " conv2d_574 (Conv2D)            (None, 21, 21, 96)   82944       ['activation_573[0][0]']         \n",
            "                                                                                                  \n",
            " conv2d_575 (Conv2D)            (None, 21, 21, 32)   6144        ['average_pooling2d_54[0][0]']   \n",
            "                                                                                                  \n",
            " batch_normalization_571 (Batch  (None, 21, 21, 64)  192         ['conv2d_569[0][0]']             \n",
            " Normalization)                                                                                   \n",
            "                                                                                                  \n",
            " batch_normalization_573 (Batch  (None, 21, 21, 64)  192         ['conv2d_571[0][0]']             \n",
            " Normalization)                                                                                   \n",
            "                                                                                                  \n",
            " batch_normalization_576 (Batch  (None, 21, 21, 96)  288         ['conv2d_574[0][0]']             \n",
            " Normalization)                                                                                   \n",
            "                                                                                                  \n",
            " batch_normalization_577 (Batch  (None, 21, 21, 32)  96          ['conv2d_575[0][0]']             \n",
            " Normalization)                                                                                   \n",
            "                                                                                                  \n",
            " activation_569 (Activation)    (None, 21, 21, 64)   0           ['batch_normalization_571[0][0]']\n",
            "                                                                                                  \n",
            " activation_571 (Activation)    (None, 21, 21, 64)   0           ['batch_normalization_573[0][0]']\n",
            "                                                                                                  \n",
            " activation_574 (Activation)    (None, 21, 21, 96)   0           ['batch_normalization_576[0][0]']\n",
            "                                                                                                  \n",
            " activation_575 (Activation)    (None, 21, 21, 32)   0           ['batch_normalization_577[0][0]']\n",
            "                                                                                                  \n",
            " mixed0 (Concatenate)           (None, 21, 21, 256)  0           ['activation_569[0][0]',         \n",
            "                                                                  'activation_571[0][0]',         \n",
            "                                                                  'activation_574[0][0]',         \n",
            "                                                                  'activation_575[0][0]']         \n",
            "                                                                                                  \n",
            " conv2d_579 (Conv2D)            (None, 21, 21, 64)   16384       ['mixed0[0][0]']                 \n",
            "                                                                                                  \n",
            " batch_normalization_581 (Batch  (None, 21, 21, 64)  192         ['conv2d_579[0][0]']             \n",
            " Normalization)                                                                                   \n",
            "                                                                                                  \n",
            " activation_579 (Activation)    (None, 21, 21, 64)   0           ['batch_normalization_581[0][0]']\n",
            "                                                                                                  \n",
            " conv2d_577 (Conv2D)            (None, 21, 21, 48)   12288       ['mixed0[0][0]']                 \n",
            "                                                                                                  \n",
            " conv2d_580 (Conv2D)            (None, 21, 21, 96)   55296       ['activation_579[0][0]']         \n",
            "                                                                                                  \n",
            " batch_normalization_579 (Batch  (None, 21, 21, 48)  144         ['conv2d_577[0][0]']             \n",
            " Normalization)                                                                                   \n",
            "                                                                                                  \n",
            " batch_normalization_582 (Batch  (None, 21, 21, 96)  288         ['conv2d_580[0][0]']             \n",
            " Normalization)                                                                                   \n",
            "                                                                                                  \n",
            " activation_577 (Activation)    (None, 21, 21, 48)   0           ['batch_normalization_579[0][0]']\n",
            "                                                                                                  \n",
            " activation_580 (Activation)    (None, 21, 21, 96)   0           ['batch_normalization_582[0][0]']\n",
            "                                                                                                  \n",
            " average_pooling2d_55 (AverageP  (None, 21, 21, 256)  0          ['mixed0[0][0]']                 \n",
            " ooling2D)                                                                                        \n",
            "                                                                                                  \n",
            " conv2d_576 (Conv2D)            (None, 21, 21, 64)   16384       ['mixed0[0][0]']                 \n",
            "                                                                                                  \n",
            " conv2d_578 (Conv2D)            (None, 21, 21, 64)   76800       ['activation_577[0][0]']         \n",
            "                                                                                                  \n",
            " conv2d_581 (Conv2D)            (None, 21, 21, 96)   82944       ['activation_580[0][0]']         \n",
            "                                                                                                  \n",
            " conv2d_582 (Conv2D)            (None, 21, 21, 64)   16384       ['average_pooling2d_55[0][0]']   \n",
            "                                                                                                  \n",
            " batch_normalization_578 (Batch  (None, 21, 21, 64)  192         ['conv2d_576[0][0]']             \n",
            " Normalization)                                                                                   \n",
            "                                                                                                  \n",
            " batch_normalization_580 (Batch  (None, 21, 21, 64)  192         ['conv2d_578[0][0]']             \n",
            " Normalization)                                                                                   \n",
            "                                                                                                  \n",
            " batch_normalization_583 (Batch  (None, 21, 21, 96)  288         ['conv2d_581[0][0]']             \n",
            " Normalization)                                                                                   \n",
            "                                                                                                  \n",
            " batch_normalization_584 (Batch  (None, 21, 21, 64)  192         ['conv2d_582[0][0]']             \n",
            " Normalization)                                                                                   \n",
            "                                                                                                  \n",
            " activation_576 (Activation)    (None, 21, 21, 64)   0           ['batch_normalization_578[0][0]']\n",
            "                                                                                                  \n",
            " activation_578 (Activation)    (None, 21, 21, 64)   0           ['batch_normalization_580[0][0]']\n",
            "                                                                                                  \n",
            " activation_581 (Activation)    (None, 21, 21, 96)   0           ['batch_normalization_583[0][0]']\n",
            "                                                                                                  \n",
            " activation_582 (Activation)    (None, 21, 21, 64)   0           ['batch_normalization_584[0][0]']\n",
            "                                                                                                  \n",
            " mixed1 (Concatenate)           (None, 21, 21, 288)  0           ['activation_576[0][0]',         \n",
            "                                                                  'activation_578[0][0]',         \n",
            "                                                                  'activation_581[0][0]',         \n",
            "                                                                  'activation_582[0][0]']         \n",
            "                                                                                                  \n",
            " conv2d_586 (Conv2D)            (None, 21, 21, 64)   18432       ['mixed1[0][0]']                 \n",
            "                                                                                                  \n",
            " batch_normalization_588 (Batch  (None, 21, 21, 64)  192         ['conv2d_586[0][0]']             \n",
            " Normalization)                                                                                   \n",
            "                                                                                                  \n",
            " activation_586 (Activation)    (None, 21, 21, 64)   0           ['batch_normalization_588[0][0]']\n",
            "                                                                                                  \n",
            " conv2d_584 (Conv2D)            (None, 21, 21, 48)   13824       ['mixed1[0][0]']                 \n",
            "                                                                                                  \n",
            " conv2d_587 (Conv2D)            (None, 21, 21, 96)   55296       ['activation_586[0][0]']         \n",
            "                                                                                                  \n",
            " batch_normalization_586 (Batch  (None, 21, 21, 48)  144         ['conv2d_584[0][0]']             \n",
            " Normalization)                                                                                   \n",
            "                                                                                                  \n",
            " batch_normalization_589 (Batch  (None, 21, 21, 96)  288         ['conv2d_587[0][0]']             \n",
            " Normalization)                                                                                   \n",
            "                                                                                                  \n",
            " activation_584 (Activation)    (None, 21, 21, 48)   0           ['batch_normalization_586[0][0]']\n",
            "                                                                                                  \n",
            " activation_587 (Activation)    (None, 21, 21, 96)   0           ['batch_normalization_589[0][0]']\n",
            "                                                                                                  \n",
            " average_pooling2d_56 (AverageP  (None, 21, 21, 288)  0          ['mixed1[0][0]']                 \n",
            " ooling2D)                                                                                        \n",
            "                                                                                                  \n",
            " conv2d_583 (Conv2D)            (None, 21, 21, 64)   18432       ['mixed1[0][0]']                 \n",
            "                                                                                                  \n",
            " conv2d_585 (Conv2D)            (None, 21, 21, 64)   76800       ['activation_584[0][0]']         \n",
            "                                                                                                  \n",
            " conv2d_588 (Conv2D)            (None, 21, 21, 96)   82944       ['activation_587[0][0]']         \n",
            "                                                                                                  \n",
            " conv2d_589 (Conv2D)            (None, 21, 21, 64)   18432       ['average_pooling2d_56[0][0]']   \n",
            "                                                                                                  \n",
            " batch_normalization_585 (Batch  (None, 21, 21, 64)  192         ['conv2d_583[0][0]']             \n",
            " Normalization)                                                                                   \n",
            "                                                                                                  \n",
            " batch_normalization_587 (Batch  (None, 21, 21, 64)  192         ['conv2d_585[0][0]']             \n",
            " Normalization)                                                                                   \n",
            "                                                                                                  \n",
            " batch_normalization_590 (Batch  (None, 21, 21, 96)  288         ['conv2d_588[0][0]']             \n",
            " Normalization)                                                                                   \n",
            "                                                                                                  \n",
            " batch_normalization_591 (Batch  (None, 21, 21, 64)  192         ['conv2d_589[0][0]']             \n",
            " Normalization)                                                                                   \n",
            "                                                                                                  \n",
            " activation_583 (Activation)    (None, 21, 21, 64)   0           ['batch_normalization_585[0][0]']\n",
            "                                                                                                  \n",
            " activation_585 (Activation)    (None, 21, 21, 64)   0           ['batch_normalization_587[0][0]']\n",
            "                                                                                                  \n",
            " activation_588 (Activation)    (None, 21, 21, 96)   0           ['batch_normalization_590[0][0]']\n",
            "                                                                                                  \n",
            " activation_589 (Activation)    (None, 21, 21, 64)   0           ['batch_normalization_591[0][0]']\n",
            "                                                                                                  \n",
            " mixed2 (Concatenate)           (None, 21, 21, 288)  0           ['activation_583[0][0]',         \n",
            "                                                                  'activation_585[0][0]',         \n",
            "                                                                  'activation_588[0][0]',         \n",
            "                                                                  'activation_589[0][0]']         \n",
            "                                                                                                  \n",
            " conv2d_591 (Conv2D)            (None, 21, 21, 64)   18432       ['mixed2[0][0]']                 \n",
            "                                                                                                  \n",
            " batch_normalization_593 (Batch  (None, 21, 21, 64)  192         ['conv2d_591[0][0]']             \n",
            " Normalization)                                                                                   \n",
            "                                                                                                  \n",
            " activation_591 (Activation)    (None, 21, 21, 64)   0           ['batch_normalization_593[0][0]']\n",
            "                                                                                                  \n",
            " conv2d_592 (Conv2D)            (None, 21, 21, 96)   55296       ['activation_591[0][0]']         \n",
            "                                                                                                  \n",
            " batch_normalization_594 (Batch  (None, 21, 21, 96)  288         ['conv2d_592[0][0]']             \n",
            " Normalization)                                                                                   \n",
            "                                                                                                  \n",
            " activation_592 (Activation)    (None, 21, 21, 96)   0           ['batch_normalization_594[0][0]']\n",
            "                                                                                                  \n",
            " conv2d_590 (Conv2D)            (None, 10, 10, 384)  995328      ['mixed2[0][0]']                 \n",
            "                                                                                                  \n",
            " conv2d_593 (Conv2D)            (None, 10, 10, 96)   82944       ['activation_592[0][0]']         \n",
            "                                                                                                  \n",
            " batch_normalization_592 (Batch  (None, 10, 10, 384)  1152       ['conv2d_590[0][0]']             \n",
            " Normalization)                                                                                   \n",
            "                                                                                                  \n",
            " batch_normalization_595 (Batch  (None, 10, 10, 96)  288         ['conv2d_593[0][0]']             \n",
            " Normalization)                                                                                   \n",
            "                                                                                                  \n",
            " activation_590 (Activation)    (None, 10, 10, 384)  0           ['batch_normalization_592[0][0]']\n",
            "                                                                                                  \n",
            " activation_593 (Activation)    (None, 10, 10, 96)   0           ['batch_normalization_595[0][0]']\n",
            "                                                                                                  \n",
            " max_pooling2d_26 (MaxPooling2D  (None, 10, 10, 288)  0          ['mixed2[0][0]']                 \n",
            " )                                                                                                \n",
            "                                                                                                  \n",
            " mixed3 (Concatenate)           (None, 10, 10, 768)  0           ['activation_590[0][0]',         \n",
            "                                                                  'activation_593[0][0]',         \n",
            "                                                                  'max_pooling2d_26[0][0]']       \n",
            "                                                                                                  \n",
            " conv2d_598 (Conv2D)            (None, 10, 10, 128)  98304       ['mixed3[0][0]']                 \n",
            "                                                                                                  \n",
            " batch_normalization_600 (Batch  (None, 10, 10, 128)  384        ['conv2d_598[0][0]']             \n",
            " Normalization)                                                                                   \n",
            "                                                                                                  \n",
            " activation_598 (Activation)    (None, 10, 10, 128)  0           ['batch_normalization_600[0][0]']\n",
            "                                                                                                  \n",
            " conv2d_599 (Conv2D)            (None, 10, 10, 128)  114688      ['activation_598[0][0]']         \n",
            "                                                                                                  \n",
            " batch_normalization_601 (Batch  (None, 10, 10, 128)  384        ['conv2d_599[0][0]']             \n",
            " Normalization)                                                                                   \n",
            "                                                                                                  \n",
            " activation_599 (Activation)    (None, 10, 10, 128)  0           ['batch_normalization_601[0][0]']\n",
            "                                                                                                  \n",
            " conv2d_595 (Conv2D)            (None, 10, 10, 128)  98304       ['mixed3[0][0]']                 \n",
            "                                                                                                  \n",
            " conv2d_600 (Conv2D)            (None, 10, 10, 128)  114688      ['activation_599[0][0]']         \n",
            "                                                                                                  \n",
            " batch_normalization_597 (Batch  (None, 10, 10, 128)  384        ['conv2d_595[0][0]']             \n",
            " Normalization)                                                                                   \n",
            "                                                                                                  \n",
            " batch_normalization_602 (Batch  (None, 10, 10, 128)  384        ['conv2d_600[0][0]']             \n",
            " Normalization)                                                                                   \n",
            "                                                                                                  \n",
            " activation_595 (Activation)    (None, 10, 10, 128)  0           ['batch_normalization_597[0][0]']\n",
            "                                                                                                  \n",
            " activation_600 (Activation)    (None, 10, 10, 128)  0           ['batch_normalization_602[0][0]']\n",
            "                                                                                                  \n",
            " conv2d_596 (Conv2D)            (None, 10, 10, 128)  114688      ['activation_595[0][0]']         \n",
            "                                                                                                  \n",
            " conv2d_601 (Conv2D)            (None, 10, 10, 128)  114688      ['activation_600[0][0]']         \n",
            "                                                                                                  \n",
            " batch_normalization_598 (Batch  (None, 10, 10, 128)  384        ['conv2d_596[0][0]']             \n",
            " Normalization)                                                                                   \n",
            "                                                                                                  \n",
            " batch_normalization_603 (Batch  (None, 10, 10, 128)  384        ['conv2d_601[0][0]']             \n",
            " Normalization)                                                                                   \n",
            "                                                                                                  \n",
            " activation_596 (Activation)    (None, 10, 10, 128)  0           ['batch_normalization_598[0][0]']\n",
            "                                                                                                  \n",
            " activation_601 (Activation)    (None, 10, 10, 128)  0           ['batch_normalization_603[0][0]']\n",
            "                                                                                                  \n",
            " average_pooling2d_57 (AverageP  (None, 10, 10, 768)  0          ['mixed3[0][0]']                 \n",
            " ooling2D)                                                                                        \n",
            "                                                                                                  \n",
            " conv2d_594 (Conv2D)            (None, 10, 10, 192)  147456      ['mixed3[0][0]']                 \n",
            "                                                                                                  \n",
            " conv2d_597 (Conv2D)            (None, 10, 10, 192)  172032      ['activation_596[0][0]']         \n",
            "                                                                                                  \n",
            " conv2d_602 (Conv2D)            (None, 10, 10, 192)  172032      ['activation_601[0][0]']         \n",
            "                                                                                                  \n",
            " conv2d_603 (Conv2D)            (None, 10, 10, 192)  147456      ['average_pooling2d_57[0][0]']   \n",
            "                                                                                                  \n",
            " batch_normalization_596 (Batch  (None, 10, 10, 192)  576        ['conv2d_594[0][0]']             \n",
            " Normalization)                                                                                   \n",
            "                                                                                                  \n",
            " batch_normalization_599 (Batch  (None, 10, 10, 192)  576        ['conv2d_597[0][0]']             \n",
            " Normalization)                                                                                   \n",
            "                                                                                                  \n",
            " batch_normalization_604 (Batch  (None, 10, 10, 192)  576        ['conv2d_602[0][0]']             \n",
            " Normalization)                                                                                   \n",
            "                                                                                                  \n",
            " batch_normalization_605 (Batch  (None, 10, 10, 192)  576        ['conv2d_603[0][0]']             \n",
            " Normalization)                                                                                   \n",
            "                                                                                                  \n",
            " activation_594 (Activation)    (None, 10, 10, 192)  0           ['batch_normalization_596[0][0]']\n",
            "                                                                                                  \n",
            " activation_597 (Activation)    (None, 10, 10, 192)  0           ['batch_normalization_599[0][0]']\n",
            "                                                                                                  \n",
            " activation_602 (Activation)    (None, 10, 10, 192)  0           ['batch_normalization_604[0][0]']\n",
            "                                                                                                  \n",
            " activation_603 (Activation)    (None, 10, 10, 192)  0           ['batch_normalization_605[0][0]']\n",
            "                                                                                                  \n",
            " mixed4 (Concatenate)           (None, 10, 10, 768)  0           ['activation_594[0][0]',         \n",
            "                                                                  'activation_597[0][0]',         \n",
            "                                                                  'activation_602[0][0]',         \n",
            "                                                                  'activation_603[0][0]']         \n",
            "                                                                                                  \n",
            " conv2d_608 (Conv2D)            (None, 10, 10, 160)  122880      ['mixed4[0][0]']                 \n",
            "                                                                                                  \n",
            " batch_normalization_610 (Batch  (None, 10, 10, 160)  480        ['conv2d_608[0][0]']             \n",
            " Normalization)                                                                                   \n",
            "                                                                                                  \n",
            " activation_608 (Activation)    (None, 10, 10, 160)  0           ['batch_normalization_610[0][0]']\n",
            "                                                                                                  \n",
            " conv2d_609 (Conv2D)            (None, 10, 10, 160)  179200      ['activation_608[0][0]']         \n",
            "                                                                                                  \n",
            " batch_normalization_611 (Batch  (None, 10, 10, 160)  480        ['conv2d_609[0][0]']             \n",
            " Normalization)                                                                                   \n",
            "                                                                                                  \n",
            " activation_609 (Activation)    (None, 10, 10, 160)  0           ['batch_normalization_611[0][0]']\n",
            "                                                                                                  \n",
            " conv2d_605 (Conv2D)            (None, 10, 10, 160)  122880      ['mixed4[0][0]']                 \n",
            "                                                                                                  \n",
            " conv2d_610 (Conv2D)            (None, 10, 10, 160)  179200      ['activation_609[0][0]']         \n",
            "                                                                                                  \n",
            " batch_normalization_607 (Batch  (None, 10, 10, 160)  480        ['conv2d_605[0][0]']             \n",
            " Normalization)                                                                                   \n",
            "                                                                                                  \n",
            " batch_normalization_612 (Batch  (None, 10, 10, 160)  480        ['conv2d_610[0][0]']             \n",
            " Normalization)                                                                                   \n",
            "                                                                                                  \n",
            " activation_605 (Activation)    (None, 10, 10, 160)  0           ['batch_normalization_607[0][0]']\n",
            "                                                                                                  \n",
            " activation_610 (Activation)    (None, 10, 10, 160)  0           ['batch_normalization_612[0][0]']\n",
            "                                                                                                  \n",
            " conv2d_606 (Conv2D)            (None, 10, 10, 160)  179200      ['activation_605[0][0]']         \n",
            "                                                                                                  \n",
            " conv2d_611 (Conv2D)            (None, 10, 10, 160)  179200      ['activation_610[0][0]']         \n",
            "                                                                                                  \n",
            " batch_normalization_608 (Batch  (None, 10, 10, 160)  480        ['conv2d_606[0][0]']             \n",
            " Normalization)                                                                                   \n",
            "                                                                                                  \n",
            " batch_normalization_613 (Batch  (None, 10, 10, 160)  480        ['conv2d_611[0][0]']             \n",
            " Normalization)                                                                                   \n",
            "                                                                                                  \n",
            " activation_606 (Activation)    (None, 10, 10, 160)  0           ['batch_normalization_608[0][0]']\n",
            "                                                                                                  \n",
            " activation_611 (Activation)    (None, 10, 10, 160)  0           ['batch_normalization_613[0][0]']\n",
            "                                                                                                  \n",
            " average_pooling2d_58 (AverageP  (None, 10, 10, 768)  0          ['mixed4[0][0]']                 \n",
            " ooling2D)                                                                                        \n",
            "                                                                                                  \n",
            " conv2d_604 (Conv2D)            (None, 10, 10, 192)  147456      ['mixed4[0][0]']                 \n",
            "                                                                                                  \n",
            " conv2d_607 (Conv2D)            (None, 10, 10, 192)  215040      ['activation_606[0][0]']         \n",
            "                                                                                                  \n",
            " conv2d_612 (Conv2D)            (None, 10, 10, 192)  215040      ['activation_611[0][0]']         \n",
            "                                                                                                  \n",
            " conv2d_613 (Conv2D)            (None, 10, 10, 192)  147456      ['average_pooling2d_58[0][0]']   \n",
            "                                                                                                  \n",
            " batch_normalization_606 (Batch  (None, 10, 10, 192)  576        ['conv2d_604[0][0]']             \n",
            " Normalization)                                                                                   \n",
            "                                                                                                  \n",
            " batch_normalization_609 (Batch  (None, 10, 10, 192)  576        ['conv2d_607[0][0]']             \n",
            " Normalization)                                                                                   \n",
            "                                                                                                  \n",
            " batch_normalization_614 (Batch  (None, 10, 10, 192)  576        ['conv2d_612[0][0]']             \n",
            " Normalization)                                                                                   \n",
            "                                                                                                  \n",
            " batch_normalization_615 (Batch  (None, 10, 10, 192)  576        ['conv2d_613[0][0]']             \n",
            " Normalization)                                                                                   \n",
            "                                                                                                  \n",
            " activation_604 (Activation)    (None, 10, 10, 192)  0           ['batch_normalization_606[0][0]']\n",
            "                                                                                                  \n",
            " activation_607 (Activation)    (None, 10, 10, 192)  0           ['batch_normalization_609[0][0]']\n",
            "                                                                                                  \n",
            " activation_612 (Activation)    (None, 10, 10, 192)  0           ['batch_normalization_614[0][0]']\n",
            "                                                                                                  \n",
            " activation_613 (Activation)    (None, 10, 10, 192)  0           ['batch_normalization_615[0][0]']\n",
            "                                                                                                  \n",
            " mixed5 (Concatenate)           (None, 10, 10, 768)  0           ['activation_604[0][0]',         \n",
            "                                                                  'activation_607[0][0]',         \n",
            "                                                                  'activation_612[0][0]',         \n",
            "                                                                  'activation_613[0][0]']         \n",
            "                                                                                                  \n",
            " conv2d_618 (Conv2D)            (None, 10, 10, 160)  122880      ['mixed5[0][0]']                 \n",
            "                                                                                                  \n",
            " batch_normalization_620 (Batch  (None, 10, 10, 160)  480        ['conv2d_618[0][0]']             \n",
            " Normalization)                                                                                   \n",
            "                                                                                                  \n",
            " activation_618 (Activation)    (None, 10, 10, 160)  0           ['batch_normalization_620[0][0]']\n",
            "                                                                                                  \n",
            " conv2d_619 (Conv2D)            (None, 10, 10, 160)  179200      ['activation_618[0][0]']         \n",
            "                                                                                                  \n",
            " batch_normalization_621 (Batch  (None, 10, 10, 160)  480        ['conv2d_619[0][0]']             \n",
            " Normalization)                                                                                   \n",
            "                                                                                                  \n",
            " activation_619 (Activation)    (None, 10, 10, 160)  0           ['batch_normalization_621[0][0]']\n",
            "                                                                                                  \n",
            " conv2d_615 (Conv2D)            (None, 10, 10, 160)  122880      ['mixed5[0][0]']                 \n",
            "                                                                                                  \n",
            " conv2d_620 (Conv2D)            (None, 10, 10, 160)  179200      ['activation_619[0][0]']         \n",
            "                                                                                                  \n",
            " batch_normalization_617 (Batch  (None, 10, 10, 160)  480        ['conv2d_615[0][0]']             \n",
            " Normalization)                                                                                   \n",
            "                                                                                                  \n",
            " batch_normalization_622 (Batch  (None, 10, 10, 160)  480        ['conv2d_620[0][0]']             \n",
            " Normalization)                                                                                   \n",
            "                                                                                                  \n",
            " activation_615 (Activation)    (None, 10, 10, 160)  0           ['batch_normalization_617[0][0]']\n",
            "                                                                                                  \n",
            " activation_620 (Activation)    (None, 10, 10, 160)  0           ['batch_normalization_622[0][0]']\n",
            "                                                                                                  \n",
            " conv2d_616 (Conv2D)            (None, 10, 10, 160)  179200      ['activation_615[0][0]']         \n",
            "                                                                                                  \n",
            " conv2d_621 (Conv2D)            (None, 10, 10, 160)  179200      ['activation_620[0][0]']         \n",
            "                                                                                                  \n",
            " batch_normalization_618 (Batch  (None, 10, 10, 160)  480        ['conv2d_616[0][0]']             \n",
            " Normalization)                                                                                   \n",
            "                                                                                                  \n",
            " batch_normalization_623 (Batch  (None, 10, 10, 160)  480        ['conv2d_621[0][0]']             \n",
            " Normalization)                                                                                   \n",
            "                                                                                                  \n",
            " activation_616 (Activation)    (None, 10, 10, 160)  0           ['batch_normalization_618[0][0]']\n",
            "                                                                                                  \n",
            " activation_621 (Activation)    (None, 10, 10, 160)  0           ['batch_normalization_623[0][0]']\n",
            "                                                                                                  \n",
            " average_pooling2d_59 (AverageP  (None, 10, 10, 768)  0          ['mixed5[0][0]']                 \n",
            " ooling2D)                                                                                        \n",
            "                                                                                                  \n",
            " conv2d_614 (Conv2D)            (None, 10, 10, 192)  147456      ['mixed5[0][0]']                 \n",
            "                                                                                                  \n",
            " conv2d_617 (Conv2D)            (None, 10, 10, 192)  215040      ['activation_616[0][0]']         \n",
            "                                                                                                  \n",
            " conv2d_622 (Conv2D)            (None, 10, 10, 192)  215040      ['activation_621[0][0]']         \n",
            "                                                                                                  \n",
            " conv2d_623 (Conv2D)            (None, 10, 10, 192)  147456      ['average_pooling2d_59[0][0]']   \n",
            "                                                                                                  \n",
            " batch_normalization_616 (Batch  (None, 10, 10, 192)  576        ['conv2d_614[0][0]']             \n",
            " Normalization)                                                                                   \n",
            "                                                                                                  \n",
            " batch_normalization_619 (Batch  (None, 10, 10, 192)  576        ['conv2d_617[0][0]']             \n",
            " Normalization)                                                                                   \n",
            "                                                                                                  \n",
            " batch_normalization_624 (Batch  (None, 10, 10, 192)  576        ['conv2d_622[0][0]']             \n",
            " Normalization)                                                                                   \n",
            "                                                                                                  \n",
            " batch_normalization_625 (Batch  (None, 10, 10, 192)  576        ['conv2d_623[0][0]']             \n",
            " Normalization)                                                                                   \n",
            "                                                                                                  \n",
            " activation_614 (Activation)    (None, 10, 10, 192)  0           ['batch_normalization_616[0][0]']\n",
            "                                                                                                  \n",
            " activation_617 (Activation)    (None, 10, 10, 192)  0           ['batch_normalization_619[0][0]']\n",
            "                                                                                                  \n",
            " activation_622 (Activation)    (None, 10, 10, 192)  0           ['batch_normalization_624[0][0]']\n",
            "                                                                                                  \n",
            " activation_623 (Activation)    (None, 10, 10, 192)  0           ['batch_normalization_625[0][0]']\n",
            "                                                                                                  \n",
            " mixed6 (Concatenate)           (None, 10, 10, 768)  0           ['activation_614[0][0]',         \n",
            "                                                                  'activation_617[0][0]',         \n",
            "                                                                  'activation_622[0][0]',         \n",
            "                                                                  'activation_623[0][0]']         \n",
            "                                                                                                  \n",
            " conv2d_628 (Conv2D)            (None, 10, 10, 192)  147456      ['mixed6[0][0]']                 \n",
            "                                                                                                  \n",
            " batch_normalization_630 (Batch  (None, 10, 10, 192)  576        ['conv2d_628[0][0]']             \n",
            " Normalization)                                                                                   \n",
            "                                                                                                  \n",
            " activation_628 (Activation)    (None, 10, 10, 192)  0           ['batch_normalization_630[0][0]']\n",
            "                                                                                                  \n",
            " conv2d_629 (Conv2D)            (None, 10, 10, 192)  258048      ['activation_628[0][0]']         \n",
            "                                                                                                  \n",
            " batch_normalization_631 (Batch  (None, 10, 10, 192)  576        ['conv2d_629[0][0]']             \n",
            " Normalization)                                                                                   \n",
            "                                                                                                  \n",
            " activation_629 (Activation)    (None, 10, 10, 192)  0           ['batch_normalization_631[0][0]']\n",
            "                                                                                                  \n",
            " conv2d_625 (Conv2D)            (None, 10, 10, 192)  147456      ['mixed6[0][0]']                 \n",
            "                                                                                                  \n",
            " conv2d_630 (Conv2D)            (None, 10, 10, 192)  258048      ['activation_629[0][0]']         \n",
            "                                                                                                  \n",
            " batch_normalization_627 (Batch  (None, 10, 10, 192)  576        ['conv2d_625[0][0]']             \n",
            " Normalization)                                                                                   \n",
            "                                                                                                  \n",
            " batch_normalization_632 (Batch  (None, 10, 10, 192)  576        ['conv2d_630[0][0]']             \n",
            " Normalization)                                                                                   \n",
            "                                                                                                  \n",
            " activation_625 (Activation)    (None, 10, 10, 192)  0           ['batch_normalization_627[0][0]']\n",
            "                                                                                                  \n",
            " activation_630 (Activation)    (None, 10, 10, 192)  0           ['batch_normalization_632[0][0]']\n",
            "                                                                                                  \n",
            " conv2d_626 (Conv2D)            (None, 10, 10, 192)  258048      ['activation_625[0][0]']         \n",
            "                                                                                                  \n",
            " conv2d_631 (Conv2D)            (None, 10, 10, 192)  258048      ['activation_630[0][0]']         \n",
            "                                                                                                  \n",
            " batch_normalization_628 (Batch  (None, 10, 10, 192)  576        ['conv2d_626[0][0]']             \n",
            " Normalization)                                                                                   \n",
            "                                                                                                  \n",
            " batch_normalization_633 (Batch  (None, 10, 10, 192)  576        ['conv2d_631[0][0]']             \n",
            " Normalization)                                                                                   \n",
            "                                                                                                  \n",
            " activation_626 (Activation)    (None, 10, 10, 192)  0           ['batch_normalization_628[0][0]']\n",
            "                                                                                                  \n",
            " activation_631 (Activation)    (None, 10, 10, 192)  0           ['batch_normalization_633[0][0]']\n",
            "                                                                                                  \n",
            " average_pooling2d_60 (AverageP  (None, 10, 10, 768)  0          ['mixed6[0][0]']                 \n",
            " ooling2D)                                                                                        \n",
            "                                                                                                  \n",
            " conv2d_624 (Conv2D)            (None, 10, 10, 192)  147456      ['mixed6[0][0]']                 \n",
            "                                                                                                  \n",
            " conv2d_627 (Conv2D)            (None, 10, 10, 192)  258048      ['activation_626[0][0]']         \n",
            "                                                                                                  \n",
            " conv2d_632 (Conv2D)            (None, 10, 10, 192)  258048      ['activation_631[0][0]']         \n",
            "                                                                                                  \n",
            " conv2d_633 (Conv2D)            (None, 10, 10, 192)  147456      ['average_pooling2d_60[0][0]']   \n",
            "                                                                                                  \n",
            " batch_normalization_626 (Batch  (None, 10, 10, 192)  576        ['conv2d_624[0][0]']             \n",
            " Normalization)                                                                                   \n",
            "                                                                                                  \n",
            " batch_normalization_629 (Batch  (None, 10, 10, 192)  576        ['conv2d_627[0][0]']             \n",
            " Normalization)                                                                                   \n",
            "                                                                                                  \n",
            " batch_normalization_634 (Batch  (None, 10, 10, 192)  576        ['conv2d_632[0][0]']             \n",
            " Normalization)                                                                                   \n",
            "                                                                                                  \n",
            " batch_normalization_635 (Batch  (None, 10, 10, 192)  576        ['conv2d_633[0][0]']             \n",
            " Normalization)                                                                                   \n",
            "                                                                                                  \n",
            " activation_624 (Activation)    (None, 10, 10, 192)  0           ['batch_normalization_626[0][0]']\n",
            "                                                                                                  \n",
            " activation_627 (Activation)    (None, 10, 10, 192)  0           ['batch_normalization_629[0][0]']\n",
            "                                                                                                  \n",
            " activation_632 (Activation)    (None, 10, 10, 192)  0           ['batch_normalization_634[0][0]']\n",
            "                                                                                                  \n",
            " activation_633 (Activation)    (None, 10, 10, 192)  0           ['batch_normalization_635[0][0]']\n",
            "                                                                                                  \n",
            " mixed7 (Concatenate)           (None, 10, 10, 768)  0           ['activation_624[0][0]',         \n",
            "                                                                  'activation_627[0][0]',         \n",
            "                                                                  'activation_632[0][0]',         \n",
            "                                                                  'activation_633[0][0]']         \n",
            "                                                                                                  \n",
            " conv2d_636 (Conv2D)            (None, 10, 10, 192)  147456      ['mixed7[0][0]']                 \n",
            "                                                                                                  \n",
            " batch_normalization_638 (Batch  (None, 10, 10, 192)  576        ['conv2d_636[0][0]']             \n",
            " Normalization)                                                                                   \n",
            "                                                                                                  \n",
            " activation_636 (Activation)    (None, 10, 10, 192)  0           ['batch_normalization_638[0][0]']\n",
            "                                                                                                  \n",
            " conv2d_637 (Conv2D)            (None, 10, 10, 192)  258048      ['activation_636[0][0]']         \n",
            "                                                                                                  \n",
            " batch_normalization_639 (Batch  (None, 10, 10, 192)  576        ['conv2d_637[0][0]']             \n",
            " Normalization)                                                                                   \n",
            "                                                                                                  \n",
            " activation_637 (Activation)    (None, 10, 10, 192)  0           ['batch_normalization_639[0][0]']\n",
            "                                                                                                  \n",
            " conv2d_634 (Conv2D)            (None, 10, 10, 192)  147456      ['mixed7[0][0]']                 \n",
            "                                                                                                  \n",
            " conv2d_638 (Conv2D)            (None, 10, 10, 192)  258048      ['activation_637[0][0]']         \n",
            "                                                                                                  \n",
            " batch_normalization_636 (Batch  (None, 10, 10, 192)  576        ['conv2d_634[0][0]']             \n",
            " Normalization)                                                                                   \n",
            "                                                                                                  \n",
            " batch_normalization_640 (Batch  (None, 10, 10, 192)  576        ['conv2d_638[0][0]']             \n",
            " Normalization)                                                                                   \n",
            "                                                                                                  \n",
            " activation_634 (Activation)    (None, 10, 10, 192)  0           ['batch_normalization_636[0][0]']\n",
            "                                                                                                  \n",
            " activation_638 (Activation)    (None, 10, 10, 192)  0           ['batch_normalization_640[0][0]']\n",
            "                                                                                                  \n",
            " conv2d_635 (Conv2D)            (None, 4, 4, 320)    552960      ['activation_634[0][0]']         \n",
            "                                                                                                  \n",
            " conv2d_639 (Conv2D)            (None, 4, 4, 192)    331776      ['activation_638[0][0]']         \n",
            "                                                                                                  \n",
            " batch_normalization_637 (Batch  (None, 4, 4, 320)   960         ['conv2d_635[0][0]']             \n",
            " Normalization)                                                                                   \n",
            "                                                                                                  \n",
            " batch_normalization_641 (Batch  (None, 4, 4, 192)   576         ['conv2d_639[0][0]']             \n",
            " Normalization)                                                                                   \n",
            "                                                                                                  \n",
            " activation_635 (Activation)    (None, 4, 4, 320)    0           ['batch_normalization_637[0][0]']\n",
            "                                                                                                  \n",
            " activation_639 (Activation)    (None, 4, 4, 192)    0           ['batch_normalization_641[0][0]']\n",
            "                                                                                                  \n",
            " max_pooling2d_27 (MaxPooling2D  (None, 4, 4, 768)   0           ['mixed7[0][0]']                 \n",
            " )                                                                                                \n",
            "                                                                                                  \n",
            " mixed8 (Concatenate)           (None, 4, 4, 1280)   0           ['activation_635[0][0]',         \n",
            "                                                                  'activation_639[0][0]',         \n",
            "                                                                  'max_pooling2d_27[0][0]']       \n",
            "                                                                                                  \n",
            " conv2d_644 (Conv2D)            (None, 4, 4, 448)    573440      ['mixed8[0][0]']                 \n",
            "                                                                                                  \n",
            " batch_normalization_646 (Batch  (None, 4, 4, 448)   1344        ['conv2d_644[0][0]']             \n",
            " Normalization)                                                                                   \n",
            "                                                                                                  \n",
            " activation_644 (Activation)    (None, 4, 4, 448)    0           ['batch_normalization_646[0][0]']\n",
            "                                                                                                  \n",
            " conv2d_641 (Conv2D)            (None, 4, 4, 384)    491520      ['mixed8[0][0]']                 \n",
            "                                                                                                  \n",
            " conv2d_645 (Conv2D)            (None, 4, 4, 384)    1548288     ['activation_644[0][0]']         \n",
            "                                                                                                  \n",
            " batch_normalization_643 (Batch  (None, 4, 4, 384)   1152        ['conv2d_641[0][0]']             \n",
            " Normalization)                                                                                   \n",
            "                                                                                                  \n",
            " batch_normalization_647 (Batch  (None, 4, 4, 384)   1152        ['conv2d_645[0][0]']             \n",
            " Normalization)                                                                                   \n",
            "                                                                                                  \n",
            " activation_641 (Activation)    (None, 4, 4, 384)    0           ['batch_normalization_643[0][0]']\n",
            "                                                                                                  \n",
            " activation_645 (Activation)    (None, 4, 4, 384)    0           ['batch_normalization_647[0][0]']\n",
            "                                                                                                  \n",
            " conv2d_642 (Conv2D)            (None, 4, 4, 384)    442368      ['activation_641[0][0]']         \n",
            "                                                                                                  \n",
            " conv2d_643 (Conv2D)            (None, 4, 4, 384)    442368      ['activation_641[0][0]']         \n",
            "                                                                                                  \n",
            " conv2d_646 (Conv2D)            (None, 4, 4, 384)    442368      ['activation_645[0][0]']         \n",
            "                                                                                                  \n",
            " conv2d_647 (Conv2D)            (None, 4, 4, 384)    442368      ['activation_645[0][0]']         \n",
            "                                                                                                  \n",
            " average_pooling2d_61 (AverageP  (None, 4, 4, 1280)  0           ['mixed8[0][0]']                 \n",
            " ooling2D)                                                                                        \n",
            "                                                                                                  \n",
            " conv2d_640 (Conv2D)            (None, 4, 4, 320)    409600      ['mixed8[0][0]']                 \n",
            "                                                                                                  \n",
            " batch_normalization_644 (Batch  (None, 4, 4, 384)   1152        ['conv2d_642[0][0]']             \n",
            " Normalization)                                                                                   \n",
            "                                                                                                  \n",
            " batch_normalization_645 (Batch  (None, 4, 4, 384)   1152        ['conv2d_643[0][0]']             \n",
            " Normalization)                                                                                   \n",
            "                                                                                                  \n",
            " batch_normalization_648 (Batch  (None, 4, 4, 384)   1152        ['conv2d_646[0][0]']             \n",
            " Normalization)                                                                                   \n",
            "                                                                                                  \n",
            " batch_normalization_649 (Batch  (None, 4, 4, 384)   1152        ['conv2d_647[0][0]']             \n",
            " Normalization)                                                                                   \n",
            "                                                                                                  \n",
            " conv2d_648 (Conv2D)            (None, 4, 4, 192)    245760      ['average_pooling2d_61[0][0]']   \n",
            "                                                                                                  \n",
            " batch_normalization_642 (Batch  (None, 4, 4, 320)   960         ['conv2d_640[0][0]']             \n",
            " Normalization)                                                                                   \n",
            "                                                                                                  \n",
            " activation_642 (Activation)    (None, 4, 4, 384)    0           ['batch_normalization_644[0][0]']\n",
            "                                                                                                  \n",
            " activation_643 (Activation)    (None, 4, 4, 384)    0           ['batch_normalization_645[0][0]']\n",
            "                                                                                                  \n",
            " activation_646 (Activation)    (None, 4, 4, 384)    0           ['batch_normalization_648[0][0]']\n",
            "                                                                                                  \n",
            " activation_647 (Activation)    (None, 4, 4, 384)    0           ['batch_normalization_649[0][0]']\n",
            "                                                                                                  \n",
            " batch_normalization_650 (Batch  (None, 4, 4, 192)   576         ['conv2d_648[0][0]']             \n",
            " Normalization)                                                                                   \n",
            "                                                                                                  \n",
            " activation_640 (Activation)    (None, 4, 4, 320)    0           ['batch_normalization_642[0][0]']\n",
            "                                                                                                  \n",
            " mixed9_0 (Concatenate)         (None, 4, 4, 768)    0           ['activation_642[0][0]',         \n",
            "                                                                  'activation_643[0][0]']         \n",
            "                                                                                                  \n",
            " concatenate_12 (Concatenate)   (None, 4, 4, 768)    0           ['activation_646[0][0]',         \n",
            "                                                                  'activation_647[0][0]']         \n",
            "                                                                                                  \n",
            " activation_648 (Activation)    (None, 4, 4, 192)    0           ['batch_normalization_650[0][0]']\n",
            "                                                                                                  \n",
            " mixed9 (Concatenate)           (None, 4, 4, 2048)   0           ['activation_640[0][0]',         \n",
            "                                                                  'mixed9_0[0][0]',               \n",
            "                                                                  'concatenate_12[0][0]',         \n",
            "                                                                  'activation_648[0][0]']         \n",
            "                                                                                                  \n",
            " conv2d_653 (Conv2D)            (None, 4, 4, 448)    917504      ['mixed9[0][0]']                 \n",
            "                                                                                                  \n",
            " batch_normalization_655 (Batch  (None, 4, 4, 448)   1344        ['conv2d_653[0][0]']             \n",
            " Normalization)                                                                                   \n",
            "                                                                                                  \n",
            " activation_653 (Activation)    (None, 4, 4, 448)    0           ['batch_normalization_655[0][0]']\n",
            "                                                                                                  \n",
            " conv2d_650 (Conv2D)            (None, 4, 4, 384)    786432      ['mixed9[0][0]']                 \n",
            "                                                                                                  \n",
            " conv2d_654 (Conv2D)            (None, 4, 4, 384)    1548288     ['activation_653[0][0]']         \n",
            "                                                                                                  \n",
            " batch_normalization_652 (Batch  (None, 4, 4, 384)   1152        ['conv2d_650[0][0]']             \n",
            " Normalization)                                                                                   \n",
            "                                                                                                  \n",
            " batch_normalization_656 (Batch  (None, 4, 4, 384)   1152        ['conv2d_654[0][0]']             \n",
            " Normalization)                                                                                   \n",
            "                                                                                                  \n",
            " activation_650 (Activation)    (None, 4, 4, 384)    0           ['batch_normalization_652[0][0]']\n",
            "                                                                                                  \n",
            " activation_654 (Activation)    (None, 4, 4, 384)    0           ['batch_normalization_656[0][0]']\n",
            "                                                                                                  \n",
            " conv2d_651 (Conv2D)            (None, 4, 4, 384)    442368      ['activation_650[0][0]']         \n",
            "                                                                                                  \n",
            " conv2d_652 (Conv2D)            (None, 4, 4, 384)    442368      ['activation_650[0][0]']         \n",
            "                                                                                                  \n",
            " conv2d_655 (Conv2D)            (None, 4, 4, 384)    442368      ['activation_654[0][0]']         \n",
            "                                                                                                  \n",
            " conv2d_656 (Conv2D)            (None, 4, 4, 384)    442368      ['activation_654[0][0]']         \n",
            "                                                                                                  \n",
            " average_pooling2d_62 (AverageP  (None, 4, 4, 2048)  0           ['mixed9[0][0]']                 \n",
            " ooling2D)                                                                                        \n",
            "                                                                                                  \n",
            " conv2d_649 (Conv2D)            (None, 4, 4, 320)    655360      ['mixed9[0][0]']                 \n",
            "                                                                                                  \n",
            " batch_normalization_653 (Batch  (None, 4, 4, 384)   1152        ['conv2d_651[0][0]']             \n",
            " Normalization)                                                                                   \n",
            "                                                                                                  \n",
            " batch_normalization_654 (Batch  (None, 4, 4, 384)   1152        ['conv2d_652[0][0]']             \n",
            " Normalization)                                                                                   \n",
            "                                                                                                  \n",
            " batch_normalization_657 (Batch  (None, 4, 4, 384)   1152        ['conv2d_655[0][0]']             \n",
            " Normalization)                                                                                   \n",
            "                                                                                                  \n",
            " batch_normalization_658 (Batch  (None, 4, 4, 384)   1152        ['conv2d_656[0][0]']             \n",
            " Normalization)                                                                                   \n",
            "                                                                                                  \n",
            " conv2d_657 (Conv2D)            (None, 4, 4, 192)    393216      ['average_pooling2d_62[0][0]']   \n",
            "                                                                                                  \n",
            " batch_normalization_651 (Batch  (None, 4, 4, 320)   960         ['conv2d_649[0][0]']             \n",
            " Normalization)                                                                                   \n",
            "                                                                                                  \n",
            " activation_651 (Activation)    (None, 4, 4, 384)    0           ['batch_normalization_653[0][0]']\n",
            "                                                                                                  \n",
            " activation_652 (Activation)    (None, 4, 4, 384)    0           ['batch_normalization_654[0][0]']\n",
            "                                                                                                  \n",
            " activation_655 (Activation)    (None, 4, 4, 384)    0           ['batch_normalization_657[0][0]']\n",
            "                                                                                                  \n",
            " activation_656 (Activation)    (None, 4, 4, 384)    0           ['batch_normalization_658[0][0]']\n",
            "                                                                                                  \n",
            " batch_normalization_659 (Batch  (None, 4, 4, 192)   576         ['conv2d_657[0][0]']             \n",
            " Normalization)                                                                                   \n",
            "                                                                                                  \n",
            " activation_649 (Activation)    (None, 4, 4, 320)    0           ['batch_normalization_651[0][0]']\n",
            "                                                                                                  \n",
            " mixed9_1 (Concatenate)         (None, 4, 4, 768)    0           ['activation_651[0][0]',         \n",
            "                                                                  'activation_652[0][0]']         \n",
            "                                                                                                  \n",
            " concatenate_13 (Concatenate)   (None, 4, 4, 768)    0           ['activation_655[0][0]',         \n",
            "                                                                  'activation_656[0][0]']         \n",
            "                                                                                                  \n",
            " activation_657 (Activation)    (None, 4, 4, 192)    0           ['batch_normalization_659[0][0]']\n",
            "                                                                                                  \n",
            " mixed10 (Concatenate)          (None, 4, 4, 2048)   0           ['activation_649[0][0]',         \n",
            "                                                                  'mixed9_1[0][0]',               \n",
            "                                                                  'concatenate_13[0][0]',         \n",
            "                                                                  'activation_657[0][0]']         \n",
            "                                                                                                  \n",
            " global_average_pooling2d_5 (Gl  (None, 2048)        0           ['mixed10[0][0]']                \n",
            " obalAveragePooling2D)                                                                            \n",
            "                                                                                                  \n",
            " dense_6 (Dense)                (None, 512)          1049088     ['global_average_pooling2d_5[0][0\n",
            "                                                                 ]']                              \n",
            "                                                                                                  \n",
            " batch_normalization_661 (Batch  (None, 512)         2048        ['dense_6[0][0]']                \n",
            " Normalization)                                                                                   \n",
            "                                                                                                  \n",
            " dropout_3 (Dropout)            (None, 512)          0           ['batch_normalization_661[0][0]']\n",
            "                                                                                                  \n",
            " dense_7 (Dense)                (None, 3)            1539        ['dropout_3[0][0]']              \n",
            "                                                                                                  \n",
            "==================================================================================================\n",
            "Total params: 22,855,459\n",
            "Trainable params: 1,051,651\n",
            "Non-trainable params: 21,803,808\n",
            "__________________________________________________________________________________________________\n"
          ]
        }
      ]
    },
    {
      "cell_type": "code",
      "source": [
        "from aimodelshare.aimsonnx import model_to_onnx\n",
        "\n",
        "onnx_model = model_to_onnx(model, framework='keras',\n",
        "                          transfer_learning=False,\n",
        "                          deep_learning=True)\n",
        "\n",
        "with open(\"model6.onnx\", \"wb\") as f:\n",
        "    f.write(onnx_model.SerializeToString())"
      ],
      "metadata": {
        "id": "DyObe9NbmyOG"
      },
      "execution_count": null,
      "outputs": []
    },
    {
      "cell_type": "code",
      "source": [
        "apiurl='https://bb4mkgq8sb.execute-api.us-east-2.amazonaws.com/prod/m'\n",
        "\n",
        "import aimodelshare as ai\n",
        "experiment= ai.Experiment(apiurl)\n",
        "\n",
        "from aimodelshare.aws import set_credentials\n",
        "set_credentials(apiurl=apiurl)"
      ],
      "metadata": {
        "colab": {
          "base_uri": "https://localhost:8080/"
        },
        "id": "WfBa9pKhmyXK",
        "outputId": "03b6b6e0-3783-4601-df91-1407c1c96fa1"
      },
      "execution_count": null,
      "outputs": [
        {
          "output_type": "stream",
          "name": "stdout",
          "text": [
            "AI Modelshare Username:··········\n",
            "AI Modelshare Password:··········\n",
            "AI Model Share login credentials set successfully.\n"
          ]
        }
      ]
    },
    {
      "cell_type": "code",
      "source": [
        "# Submit Model\n",
        "\n",
        "#-- Generate predicted y values \n",
        "prediction_column_index=model.predict(X_test).argmax(axis=1)\n",
        "\n",
        "# extract correct prediction labels \n",
        "prediction_labels = [y_train.columns[i] for i in prediction_column_index]\n",
        "\n",
        "# Submit Model 2 to Competition Leaderboard\n",
        "experiment.submit_model(model_filepath = \"model6.onnx\",\n",
        "                                 prediction_submission=prediction_labels,\n",
        "                                 preprocessor_filepath=\"preprocessor.zip\")"
      ],
      "metadata": {
        "colab": {
          "base_uri": "https://localhost:8080/"
        },
        "id": "2tDfx6HFnNFH",
        "outputId": "da0bce78-1412-4850-8e60-53d01671676b"
      },
      "execution_count": null,
      "outputs": [
        {
          "output_type": "stream",
          "name": "stdout",
          "text": [
            "41/41 [==============================] - 5s 73ms/step\n"
          ]
        },
        {
          "output_type": "stream",
          "name": "stderr",
          "text": [
            "/usr/local/lib/python3.9/dist-packages/aimodelshare/model.py:302: FutureWarning: The frame.append method is deprecated and will be removed from pandas in a future version. Use pandas.concat instead.\n",
            "  leaderboard = leaderboard.append(metadata, ignore_index=True, sort=False)\n",
            "/usr/local/lib/python3.9/dist-packages/aimodelshare/model.py:304: PerformanceWarning: DataFrame is highly fragmented.  This is usually the result of calling `frame.insert` many times, which has poor performance.  Consider joining all columns at once using pd.concat(axis=1) instead. To get a de-fragmented frame, use `newframe = frame.copy()`\n",
            "  leaderboard['username']=leaderboard.pop(\"username\")\n",
            "/usr/local/lib/python3.9/dist-packages/aimodelshare/model.py:305: PerformanceWarning: DataFrame is highly fragmented.  This is usually the result of calling `frame.insert` many times, which has poor performance.  Consider joining all columns at once using pd.concat(axis=1) instead. To get a de-fragmented frame, use `newframe = frame.copy()`\n",
            "  leaderboard['timestamp'] = leaderboard.pop(\"timestamp\")\n",
            "/usr/local/lib/python3.9/dist-packages/aimodelshare/model.py:306: PerformanceWarning: DataFrame is highly fragmented.  This is usually the result of calling `frame.insert` many times, which has poor performance.  Consider joining all columns at once using pd.concat(axis=1) instead. To get a de-fragmented frame, use `newframe = frame.copy()`\n",
            "  leaderboard['version'] = leaderboard.pop(\"version\")\n",
            "/usr/local/lib/python3.9/dist-packages/aimodelshare/model.py:302: FutureWarning: The frame.append method is deprecated and will be removed from pandas in a future version. Use pandas.concat instead.\n",
            "  leaderboard = leaderboard.append(metadata, ignore_index=True, sort=False)\n",
            "/usr/local/lib/python3.9/dist-packages/aimodelshare/model.py:304: PerformanceWarning: DataFrame is highly fragmented.  This is usually the result of calling `frame.insert` many times, which has poor performance.  Consider joining all columns at once using pd.concat(axis=1) instead. To get a de-fragmented frame, use `newframe = frame.copy()`\n",
            "  leaderboard['username']=leaderboard.pop(\"username\")\n",
            "/usr/local/lib/python3.9/dist-packages/aimodelshare/model.py:305: PerformanceWarning: DataFrame is highly fragmented.  This is usually the result of calling `frame.insert` many times, which has poor performance.  Consider joining all columns at once using pd.concat(axis=1) instead. To get a de-fragmented frame, use `newframe = frame.copy()`\n",
            "  leaderboard['timestamp'] = leaderboard.pop(\"timestamp\")\n",
            "/usr/local/lib/python3.9/dist-packages/aimodelshare/model.py:306: PerformanceWarning: DataFrame is highly fragmented.  This is usually the result of calling `frame.insert` many times, which has poor performance.  Consider joining all columns at once using pd.concat(axis=1) instead. To get a de-fragmented frame, use `newframe = frame.copy()`\n",
            "  leaderboard['version'] = leaderboard.pop(\"version\")\n"
          ]
        },
        {
          "output_type": "stream",
          "name": "stdout",
          "text": [
            "Insert search tags to help users find your model (optional): \n",
            "Provide any useful notes about your model (optional): \n",
            "\n",
            "Your model has been submitted as model version 419\n",
            "\n",
            "To submit code used to create this model or to view current leaderboard navigate to Model Playground: \n",
            "\n",
            " https://www.modelshare.org/detail/model:3340\n"
          ]
        }
      ]
    },
    {
      "cell_type": "markdown",
      "source": [
        "### Discussion about successful models: \n",
        "It seems that the best approach to takle this problem and generate the highest accuracy models was to use Transfer learnig; in particular building on top VGG16. It seemms that filter size as well as the depth of these had a significant impact in the models performance. We compared different model architectures to takle this problem and it seems that VGG16 performed better than ResNet and InceptionV3. Building on top of these existing and proven architectures seems to be the most effective approach as these models performed better than those where the archirecture was not a well established one but rather a guessing game. Transfer learning is a powerfull tool that helped increase the models performace for the detection of COVID 19 in X-ray image data. "
      ],
      "metadata": {
        "id": "YWuMN1ltnoGg"
      }
    }
  ]
}